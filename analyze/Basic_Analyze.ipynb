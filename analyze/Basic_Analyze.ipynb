{
 "cells": [
  {
   "cell_type": "markdown",
   "id": "e81d1396",
   "metadata": {},
   "source": [
    "# TODO:\n",
    "- train/test for everything except the last thing\n",
    "- write words\n",
    "- train the models with verbose off\n",
    "- standardize the model architechtures a bit more\n",
    "- standardize the number of epochs a bit more"
   ]
  },
  {
   "cell_type": "markdown",
   "id": "fff9df9d",
   "metadata": {},
   "source": [
    "# Import data and stuff"
   ]
  },
  {
   "cell_type": "code",
   "execution_count": 1,
   "id": "d5dad818",
   "metadata": {},
   "outputs": [
    {
     "name": "stderr",
     "output_type": "stream",
     "text": [
      "2022-04-25 19:17:12.913354: W tensorflow/stream_executor/platform/default/dso_loader.cc:64] Could not load dynamic library 'libcudart.so.11.0'; dlerror: libcudart.so.11.0: cannot open shared object file: No such file or directory\n",
      "2022-04-25 19:17:12.913514: I tensorflow/stream_executor/cuda/cudart_stub.cc:29] Ignore above cudart dlerror if you do not have a GPU set up on your machine.\n"
     ]
    }
   ],
   "source": [
    "from sklearn.linear_model import LinearRegression\n",
    "import pandas as pd\n",
    "from matplotlib import pyplot as plt\n",
    "import numpy as np\n",
    "from sklearn.preprocessing import normalize, StandardScaler, MinMaxScaler\n",
    "import seaborn as sns\n",
    "import tensorflow as tf\n",
    "from tensorflow import keras\n",
    "from tensorflow.keras import layers"
   ]
  },
  {
   "cell_type": "markdown",
   "id": "5a04fe35",
   "metadata": {},
   "source": [
    "# Load data and attempt simple correlation"
   ]
  },
  {
   "cell_type": "code",
   "execution_count": 4,
   "id": "d5a0f0a9",
   "metadata": {},
   "outputs": [],
   "source": [
    "data_df = pd.read_csv('./run2.csv')\n",
    "data_df = data_df[data_df[\"speed_avg\"] < 600]\n",
    "data_df = data_df[[\"duty_cycle\",\"speed_avg\"]]\n",
    "X = data_df.to_numpy()"
   ]
  },
  {
   "cell_type": "code",
   "execution_count": 5,
   "id": "6765e2f3",
   "metadata": {},
   "outputs": [
    {
     "data": {
      "text/html": [
       "<div>\n",
       "<style scoped>\n",
       "    .dataframe tbody tr th:only-of-type {\n",
       "        vertical-align: middle;\n",
       "    }\n",
       "\n",
       "    .dataframe tbody tr th {\n",
       "        vertical-align: top;\n",
       "    }\n",
       "\n",
       "    .dataframe thead th {\n",
       "        text-align: right;\n",
       "    }\n",
       "</style>\n",
       "<table border=\"1\" class=\"dataframe\">\n",
       "  <thead>\n",
       "    <tr style=\"text-align: right;\">\n",
       "      <th></th>\n",
       "      <th>duty_cycle</th>\n",
       "      <th>speed_avg</th>\n",
       "    </tr>\n",
       "  </thead>\n",
       "  <tbody>\n",
       "    <tr>\n",
       "      <th>duty_cycle</th>\n",
       "      <td>1.000000</td>\n",
       "      <td>0.869815</td>\n",
       "    </tr>\n",
       "    <tr>\n",
       "      <th>speed_avg</th>\n",
       "      <td>0.869815</td>\n",
       "      <td>1.000000</td>\n",
       "    </tr>\n",
       "  </tbody>\n",
       "</table>\n",
       "</div>"
      ],
      "text/plain": [
       "            duty_cycle  speed_avg\n",
       "duty_cycle    1.000000   0.869815\n",
       "speed_avg     0.869815   1.000000"
      ]
     },
     "execution_count": 5,
     "metadata": {},
     "output_type": "execute_result"
    }
   ],
   "source": [
    "data_df.corr()"
   ]
  },
  {
   "cell_type": "code",
   "execution_count": 6,
   "id": "3c5ec1ea",
   "metadata": {},
   "outputs": [
    {
     "data": {
      "text/html": [
       "<div>\n",
       "<style scoped>\n",
       "    .dataframe tbody tr th:only-of-type {\n",
       "        vertical-align: middle;\n",
       "    }\n",
       "\n",
       "    .dataframe tbody tr th {\n",
       "        vertical-align: top;\n",
       "    }\n",
       "\n",
       "    .dataframe thead th {\n",
       "        text-align: right;\n",
       "    }\n",
       "</style>\n",
       "<table border=\"1\" class=\"dataframe\">\n",
       "  <thead>\n",
       "    <tr style=\"text-align: right;\">\n",
       "      <th></th>\n",
       "      <th>duty_cycle</th>\n",
       "      <th>speed_avg</th>\n",
       "    </tr>\n",
       "  </thead>\n",
       "  <tbody>\n",
       "    <tr>\n",
       "      <th>0</th>\n",
       "      <td>47</td>\n",
       "      <td>246.428158</td>\n",
       "    </tr>\n",
       "    <tr>\n",
       "      <th>1</th>\n",
       "      <td>45</td>\n",
       "      <td>259.895864</td>\n",
       "    </tr>\n",
       "    <tr>\n",
       "      <th>2</th>\n",
       "      <td>42</td>\n",
       "      <td>270.464729</td>\n",
       "    </tr>\n",
       "    <tr>\n",
       "      <th>3</th>\n",
       "      <td>42</td>\n",
       "      <td>281.724724</td>\n",
       "    </tr>\n",
       "    <tr>\n",
       "      <th>4</th>\n",
       "      <td>41</td>\n",
       "      <td>301.669997</td>\n",
       "    </tr>\n",
       "    <tr>\n",
       "      <th>...</th>\n",
       "      <td>...</td>\n",
       "      <td>...</td>\n",
       "    </tr>\n",
       "    <tr>\n",
       "      <th>4005</th>\n",
       "      <td>100</td>\n",
       "      <td>530.234599</td>\n",
       "    </tr>\n",
       "    <tr>\n",
       "      <th>4006</th>\n",
       "      <td>100</td>\n",
       "      <td>537.594669</td>\n",
       "    </tr>\n",
       "    <tr>\n",
       "      <th>4007</th>\n",
       "      <td>100</td>\n",
       "      <td>537.241391</td>\n",
       "    </tr>\n",
       "    <tr>\n",
       "      <th>4008</th>\n",
       "      <td>100</td>\n",
       "      <td>534.906953</td>\n",
       "    </tr>\n",
       "    <tr>\n",
       "      <th>4009</th>\n",
       "      <td>100</td>\n",
       "      <td>529.356773</td>\n",
       "    </tr>\n",
       "  </tbody>\n",
       "</table>\n",
       "<p>3994 rows × 2 columns</p>\n",
       "</div>"
      ],
      "text/plain": [
       "      duty_cycle   speed_avg\n",
       "0             47  246.428158\n",
       "1             45  259.895864\n",
       "2             42  270.464729\n",
       "3             42  281.724724\n",
       "4             41  301.669997\n",
       "...          ...         ...\n",
       "4005         100  530.234599\n",
       "4006         100  537.594669\n",
       "4007         100  537.241391\n",
       "4008         100  534.906953\n",
       "4009         100  529.356773\n",
       "\n",
       "[3994 rows x 2 columns]"
      ]
     },
     "execution_count": 6,
     "metadata": {},
     "output_type": "execute_result"
    }
   ],
   "source": [
    "data_df"
   ]
  },
  {
   "cell_type": "code",
   "execution_count": 7,
   "id": "3f4162ca",
   "metadata": {},
   "outputs": [
    {
     "data": {
      "image/png": "[encoded data removed]",
      "text/plain": [
       "<Figure size 432x288 with 1 Axes>"
      ]
     },
     "metadata": {
      "needs_background": "light"
     },
     "output_type": "display_data"
    }
   ],
   "source": [
    "plt.figure()\n",
    "plt.title(\"duty cycle vs speed\")\n",
    "plt.scatter(X[:,1],X[:,0]);"
   ]
  },
  {
   "cell_type": "markdown",
   "id": "9e040a17",
   "metadata": {},
   "source": [
    "Given this correlation, `duty_cycle` and `speed_avg` are well correlated, but not perfectly."
   ]
  },
  {
   "cell_type": "markdown",
   "id": "9c4534fa",
   "metadata": {},
   "source": [
    "# Fit linreg model"
   ]
  },
  {
   "cell_type": "code",
   "execution_count": 9,
   "id": "9a60dcac",
   "metadata": {},
   "outputs": [
    {
     "data": {
      "text/plain": [
       "0.7565777246563734"
      ]
     },
     "execution_count": 9,
     "metadata": {},
     "output_type": "execute_result"
    }
   ],
   "source": [
    "linreg = LinearRegression()\n",
    "voltage = X[:,0].reshape(-1,1)\n",
    "speed = X[:,1].reshape(-1,1)\n",
    "linreg.fit(speed,voltage)\n",
    "predicted_voltage = linreg.predict(speed)\n",
    "linreg.score(speed,voltage)"
   ]
  },
  {
   "cell_type": "code",
   "execution_count": 10,
   "id": "7f5eebc1",
   "metadata": {},
   "outputs": [
    {
     "data": {
      "image/png": "[encoded data removed]",
      "text/plain": [
       "<Figure size 432x288 with 1 Axes>"
      ]
     },
     "metadata": {
      "needs_background": "light"
     },
     "output_type": "display_data"
    }
   ],
   "source": [
    "plt.figure()\n",
    "plt.title(\"duty cycle vs speed\")\n",
    "plt.scatter(speed,voltage)\n",
    "plt.plot(speed,predicted_voltage,color=\"red\",linewidth=5.0);"
   ]
  },
  {
   "cell_type": "markdown",
   "id": "84965927",
   "metadata": {},
   "source": [
    "Looks ok."
   ]
  },
  {
   "cell_type": "markdown",
   "id": "c08232c7",
   "metadata": {},
   "source": [
    "# Linreg rmse"
   ]
  },
  {
   "cell_type": "code",
   "execution_count": 11,
   "id": "9331f3d2",
   "metadata": {},
   "outputs": [
    {
     "data": {
      "text/plain": [
       "10.790383704548834"
      ]
     },
     "execution_count": 11,
     "metadata": {},
     "output_type": "execute_result"
    }
   ],
   "source": [
    "np.sqrt(np.mean((predicted_voltage-voltage)**2))"
   ]
  },
  {
   "cell_type": "markdown",
   "id": "01353262",
   "metadata": {},
   "source": [
    "Not a bad RMSE, but about 10% off is a lot."
   ]
  },
  {
   "cell_type": "markdown",
   "id": "e0a4f9ad",
   "metadata": {},
   "source": [
    "# Normalize for neuralnets"
   ]
  },
  {
   "cell_type": "code",
   "execution_count": 13,
   "id": "716ae4ba",
   "metadata": {},
   "outputs": [],
   "source": [
    "speed_scaler = MinMaxScaler()\n",
    "speed_scaler.fit(speed)\n",
    "speed_scaled = speed_scaler.transform(speed)"
   ]
  },
  {
   "cell_type": "markdown",
   "id": "526192dc",
   "metadata": {},
   "source": [
    "# Define super simple model"
   ]
  },
  {
   "cell_type": "code",
   "execution_count": 14,
   "id": "9c2a3b63",
   "metadata": {},
   "outputs": [
    {
     "name": "stdout",
     "output_type": "stream",
     "text": [
      "Model: \"sequential\"\n",
      "_________________________________________________________________\n",
      " Layer (type)                Output Shape              Param #   \n",
      "=================================================================\n",
      " layer1 (Dense)              (None, 12)                24        \n",
      "                                                                 \n",
      " out (Dense)                 (None, 1)                 13        \n",
      "                                                                 \n",
      "=================================================================\n",
      "Total params: 37\n",
      "Trainable params: 37\n",
      "Non-trainable params: 0\n",
      "_________________________________________________________________\n"
     ]
    },
    {
     "name": "stderr",
     "output_type": "stream",
     "text": [
      "2022-04-25 19:18:47.986455: W tensorflow/stream_executor/platform/default/dso_loader.cc:64] Could not load dynamic library 'libcuda.so.1'; dlerror: libcuda.so.1: cannot open shared object file: No such file or directory\n",
      "2022-04-25 19:18:47.986569: W tensorflow/stream_executor/cuda/cuda_driver.cc:269] failed call to cuInit: UNKNOWN ERROR (303)\n",
      "2022-04-25 19:18:47.986668: I tensorflow/stream_executor/cuda/cuda_diagnostics.cc:156] kernel driver does not appear to be running on this host (penguin): /proc/driver/nvidia/version does not exist\n",
      "2022-04-25 19:18:47.987385: I tensorflow/core/platform/cpu_feature_guard.cc:151] This TensorFlow binary is optimized with oneAPI Deep Neural Network Library (oneDNN) to use the following CPU instructions in performance-critical operations:  AVX2 FMA\n",
      "To enable them in other operations, rebuild TensorFlow with the appropriate compiler flags.\n"
     ]
    }
   ],
   "source": [
    "model = keras.Sequential(\n",
    "    [\n",
    "        keras.Input(shape=(1,)),\n",
    "        layers.Dense(12, activation=\"sigmoid\", name=\"layer1\"),\n",
    "        layers.Dense(1, name='out', activation='sigmoid')\n",
    "    ]\n",
    ")\n",
    "model.summary()\n",
    "opt = keras.optimizers.Adam(learning_rate=0.01)\n",
    "model.compile(loss='mean_squared_error', optimizer=opt)"
   ]
  },
  {
   "cell_type": "code",
   "execution_count": 15,
   "id": "08003f76",
   "metadata": {
    "scrolled": true
   },
   "outputs": [
    {
     "name": "stdout",
     "output_type": "stream",
     "text": [
      "Epoch 1/250\n",
      "125/125 [==============================] - 1s 2ms/step - loss: 0.0358\n",
      "Epoch 2/250\n",
      "125/125 [==============================] - 0s 2ms/step - loss: 0.0144\n",
      "Epoch 3/250\n",
      "125/125 [==============================] - 0s 3ms/step - loss: 0.0105\n",
      "Epoch 4/250\n",
      "125/125 [==============================] - 0s 2ms/step - loss: 0.0100\n",
      "Epoch 5/250\n",
      "125/125 [==============================] - 0s 2ms/step - loss: 0.0097\n",
      "Epoch 6/250\n",
      "125/125 [==============================] - 0s 1ms/step - loss: 0.0096\n",
      "Epoch 7/250\n",
      "125/125 [==============================] - 0s 1ms/step - loss: 0.0094\n",
      "Epoch 8/250\n",
      "125/125 [==============================] - 0s 2ms/step - loss: 0.0093\n",
      "Epoch 9/250\n",
      "125/125 [==============================] - 0s 2ms/step - loss: 0.0092\n",
      "Epoch 10/250\n",
      "125/125 [==============================] - 0s 1ms/step - loss: 0.0089\n",
      "Epoch 11/250\n",
      "125/125 [==============================] - 0s 2ms/step - loss: 0.0088\n",
      "Epoch 12/250\n",
      "125/125 [==============================] - 0s 1ms/step - loss: 0.0087\n",
      "Epoch 13/250\n",
      "125/125 [==============================] - 0s 1ms/step - loss: 0.0085\n",
      "Epoch 14/250\n",
      "125/125 [==============================] - 0s 2ms/step - loss: 0.0083\n",
      "Epoch 15/250\n",
      "125/125 [==============================] - 0s 2ms/step - loss: 0.0082\n",
      "Epoch 16/250\n",
      "125/125 [==============================] - 0s 2ms/step - loss: 0.0081\n",
      "Epoch 17/250\n",
      "125/125 [==============================] - 0s 2ms/step - loss: 0.0079\n",
      "Epoch 18/250\n",
      "125/125 [==============================] - 0s 1ms/step - loss: 0.0077\n",
      "Epoch 19/250\n",
      "125/125 [==============================] - 0s 1ms/step - loss: 0.0076\n",
      "Epoch 20/250\n",
      "125/125 [==============================] - 0s 1ms/step - loss: 0.0075\n",
      "Epoch 21/250\n",
      "125/125 [==============================] - 0s 2ms/step - loss: 0.0073\n",
      "Epoch 22/250\n",
      "125/125 [==============================] - 0s 2ms/step - loss: 0.0071\n",
      "Epoch 23/250\n",
      "125/125 [==============================] - 0s 2ms/step - loss: 0.0070\n",
      "Epoch 24/250\n",
      "125/125 [==============================] - 0s 2ms/step - loss: 0.0069\n",
      "Epoch 25/250\n",
      "125/125 [==============================] - 0s 2ms/step - loss: 0.0068\n",
      "Epoch 26/250\n",
      "125/125 [==============================] - 0s 2ms/step - loss: 0.0066\n",
      "Epoch 27/250\n",
      "125/125 [==============================] - 0s 1ms/step - loss: 0.0065\n",
      "Epoch 28/250\n",
      "125/125 [==============================] - 0s 2ms/step - loss: 0.0066\n",
      "Epoch 29/250\n",
      "125/125 [==============================] - 0s 2ms/step - loss: 0.0064\n",
      "Epoch 30/250\n",
      "125/125 [==============================] - 0s 2ms/step - loss: 0.0063\n",
      "Epoch 31/250\n",
      "125/125 [==============================] - 0s 2ms/step - loss: 0.0062\n",
      "Epoch 32/250\n",
      "125/125 [==============================] - 0s 1ms/step - loss: 0.0062\n",
      "Epoch 33/250\n",
      "125/125 [==============================] - 0s 2ms/step - loss: 0.0062\n",
      "Epoch 34/250\n",
      "125/125 [==============================] - 0s 2ms/step - loss: 0.0061\n",
      "Epoch 35/250\n",
      "125/125 [==============================] - 0s 2ms/step - loss: 0.0061\n",
      "Epoch 36/250\n",
      "125/125 [==============================] - 0s 1ms/step - loss: 0.0060\n",
      "Epoch 37/250\n",
      "125/125 [==============================] - 0s 1ms/step - loss: 0.0060\n",
      "Epoch 38/250\n",
      "125/125 [==============================] - 0s 2ms/step - loss: 0.0059\n",
      "Epoch 39/250\n",
      "125/125 [==============================] - 0s 2ms/step - loss: 0.0060\n",
      "Epoch 40/250\n",
      "125/125 [==============================] - 0s 2ms/step - loss: 0.0059\n",
      "Epoch 41/250\n",
      "125/125 [==============================] - 0s 1ms/step - loss: 0.0059\n",
      "Epoch 42/250\n",
      "125/125 [==============================] - 0s 2ms/step - loss: 0.0060\n",
      "Epoch 43/250\n",
      "125/125 [==============================] - 0s 2ms/step - loss: 0.0058\n",
      "Epoch 44/250\n",
      "125/125 [==============================] - 0s 2ms/step - loss: 0.0058\n",
      "Epoch 45/250\n",
      "125/125 [==============================] - 0s 2ms/step - loss: 0.0059\n",
      "Epoch 46/250\n",
      "125/125 [==============================] - 0s 1ms/step - loss: 0.0058\n",
      "Epoch 47/250\n",
      "125/125 [==============================] - 0s 1ms/step - loss: 0.0059\n",
      "Epoch 48/250\n",
      "125/125 [==============================] - 0s 1ms/step - loss: 0.0059\n",
      "Epoch 49/250\n",
      "125/125 [==============================] - 0s 2ms/step - loss: 0.0059\n",
      "Epoch 50/250\n",
      "125/125 [==============================] - 0s 1ms/step - loss: 0.0058\n",
      "Epoch 51/250\n",
      "125/125 [==============================] - 0s 1ms/step - loss: 0.0059\n",
      "Epoch 52/250\n",
      "125/125 [==============================] - 0s 1ms/step - loss: 0.0059\n",
      "Epoch 53/250\n",
      "125/125 [==============================] - 0s 2ms/step - loss: 0.0058\n",
      "Epoch 54/250\n",
      "125/125 [==============================] - 0s 1ms/step - loss: 0.0058\n",
      "Epoch 55/250\n",
      "125/125 [==============================] - 0s 2ms/step - loss: 0.0058\n",
      "Epoch 56/250\n",
      "125/125 [==============================] - 0s 1ms/step - loss: 0.0058\n",
      "Epoch 57/250\n",
      "125/125 [==============================] - 0s 1ms/step - loss: 0.0058\n",
      "Epoch 58/250\n",
      "125/125 [==============================] - 0s 1ms/step - loss: 0.0057\n",
      "Epoch 59/250\n",
      "125/125 [==============================] - 0s 1ms/step - loss: 0.0058\n",
      "Epoch 60/250\n",
      "125/125 [==============================] - 0s 1ms/step - loss: 0.0057\n",
      "Epoch 61/250\n",
      "125/125 [==============================] - 0s 2ms/step - loss: 0.0057\n",
      "Epoch 62/250\n",
      "125/125 [==============================] - 0s 1ms/step - loss: 0.0057\n",
      "Epoch 63/250\n",
      "125/125 [==============================] - 0s 1ms/step - loss: 0.0057\n",
      "Epoch 64/250\n",
      "125/125 [==============================] - 0s 2ms/step - loss: 0.0057\n",
      "Epoch 65/250\n",
      "125/125 [==============================] - 0s 2ms/step - loss: 0.0057\n",
      "Epoch 66/250\n",
      "125/125 [==============================] - 0s 1ms/step - loss: 0.0058\n",
      "Epoch 67/250\n",
      "125/125 [==============================] - 0s 2ms/step - loss: 0.0057\n",
      "Epoch 68/250\n",
      "125/125 [==============================] - 0s 2ms/step - loss: 0.0057\n",
      "Epoch 69/250\n",
      "125/125 [==============================] - 0s 1ms/step - loss: 0.0057\n",
      "Epoch 70/250\n",
      "125/125 [==============================] - 0s 2ms/step - loss: 0.0057\n",
      "Epoch 71/250\n",
      "125/125 [==============================] - 0s 1ms/step - loss: 0.0057\n",
      "Epoch 72/250\n",
      "125/125 [==============================] - 0s 1ms/step - loss: 0.0057\n",
      "Epoch 73/250\n",
      "125/125 [==============================] - 0s 1ms/step - loss: 0.0057\n",
      "Epoch 74/250\n",
      "125/125 [==============================] - 0s 2ms/step - loss: 0.0057\n",
      "Epoch 75/250\n",
      "125/125 [==============================] - 0s 2ms/step - loss: 0.0057\n",
      "Epoch 76/250\n",
      "125/125 [==============================] - 0s 2ms/step - loss: 0.0057\n",
      "Epoch 77/250\n",
      "125/125 [==============================] - 0s 2ms/step - loss: 0.0056\n",
      "Epoch 78/250\n",
      "125/125 [==============================] - 0s 2ms/step - loss: 0.0057\n",
      "Epoch 79/250\n",
      "125/125 [==============================] - 0s 2ms/step - loss: 0.0056\n",
      "Epoch 80/250\n",
      "125/125 [==============================] - 0s 2ms/step - loss: 0.0057\n",
      "Epoch 81/250\n",
      "125/125 [==============================] - 0s 2ms/step - loss: 0.0056\n",
      "Epoch 82/250\n",
      "125/125 [==============================] - 0s 2ms/step - loss: 0.0056\n",
      "Epoch 83/250\n",
      "125/125 [==============================] - 0s 2ms/step - loss: 0.0056\n",
      "Epoch 84/250\n",
      "125/125 [==============================] - 0s 2ms/step - loss: 0.0057\n",
      "Epoch 85/250\n",
      "125/125 [==============================] - 0s 2ms/step - loss: 0.0056\n",
      "Epoch 86/250\n",
      "125/125 [==============================] - 0s 2ms/step - loss: 0.0056\n",
      "Epoch 87/250\n",
      "125/125 [==============================] - 0s 2ms/step - loss: 0.0056\n",
      "Epoch 88/250\n",
      "125/125 [==============================] - 0s 2ms/step - loss: 0.0056\n",
      "Epoch 89/250\n",
      "125/125 [==============================] - 0s 2ms/step - loss: 0.0056\n",
      "Epoch 90/250\n",
      "125/125 [==============================] - 0s 2ms/step - loss: 0.0056\n",
      "Epoch 91/250\n",
      "125/125 [==============================] - 0s 2ms/step - loss: 0.0056\n",
      "Epoch 92/250\n",
      "125/125 [==============================] - 0s 2ms/step - loss: 0.0056\n",
      "Epoch 93/250\n",
      "125/125 [==============================] - 0s 2ms/step - loss: 0.0056\n",
      "Epoch 94/250\n",
      "125/125 [==============================] - 0s 2ms/step - loss: 0.0056\n",
      "Epoch 95/250\n",
      "125/125 [==============================] - 0s 2ms/step - loss: 0.0056\n",
      "Epoch 96/250\n",
      "125/125 [==============================] - 0s 1ms/step - loss: 0.0056\n",
      "Epoch 97/250\n",
      "125/125 [==============================] - 0s 2ms/step - loss: 0.0056\n",
      "Epoch 98/250\n",
      "125/125 [==============================] - 0s 2ms/step - loss: 0.0055\n",
      "Epoch 99/250\n"
     ]
    },
    {
     "name": "stdout",
     "output_type": "stream",
     "text": [
      "125/125 [==============================] - 0s 2ms/step - loss: 0.0056\n",
      "Epoch 100/250\n",
      "125/125 [==============================] - 0s 2ms/step - loss: 0.0056\n",
      "Epoch 101/250\n",
      "125/125 [==============================] - 0s 2ms/step - loss: 0.0055\n",
      "Epoch 102/250\n",
      "125/125 [==============================] - 0s 2ms/step - loss: 0.0055\n",
      "Epoch 103/250\n",
      "125/125 [==============================] - 0s 2ms/step - loss: 0.0055\n",
      "Epoch 104/250\n",
      "125/125 [==============================] - 0s 2ms/step - loss: 0.0057\n",
      "Epoch 105/250\n",
      "125/125 [==============================] - 0s 2ms/step - loss: 0.0055\n",
      "Epoch 106/250\n",
      "125/125 [==============================] - 0s 2ms/step - loss: 0.0056\n",
      "Epoch 107/250\n",
      "125/125 [==============================] - 0s 2ms/step - loss: 0.0055\n",
      "Epoch 108/250\n",
      "125/125 [==============================] - 0s 2ms/step - loss: 0.0055\n",
      "Epoch 109/250\n",
      "125/125 [==============================] - 0s 2ms/step - loss: 0.0055\n",
      "Epoch 110/250\n",
      "125/125 [==============================] - 0s 2ms/step - loss: 0.0056\n",
      "Epoch 111/250\n",
      "125/125 [==============================] - 0s 2ms/step - loss: 0.0055\n",
      "Epoch 112/250\n",
      "125/125 [==============================] - 0s 2ms/step - loss: 0.0055\n",
      "Epoch 113/250\n",
      "125/125 [==============================] - 0s 2ms/step - loss: 0.0055\n",
      "Epoch 114/250\n",
      "125/125 [==============================] - 0s 2ms/step - loss: 0.0055\n",
      "Epoch 115/250\n",
      "125/125 [==============================] - ETA: 0s - loss: 0.005 - 0s 2ms/step - loss: 0.0055\n",
      "Epoch 116/250\n",
      "125/125 [==============================] - 0s 2ms/step - loss: 0.0055\n",
      "Epoch 117/250\n",
      "125/125 [==============================] - 0s 2ms/step - loss: 0.0055\n",
      "Epoch 118/250\n",
      "125/125 [==============================] - 0s 2ms/step - loss: 0.0055\n",
      "Epoch 119/250\n",
      "125/125 [==============================] - 0s 2ms/step - loss: 0.0055\n",
      "Epoch 120/250\n",
      "125/125 [==============================] - 0s 2ms/step - loss: 0.0055\n",
      "Epoch 121/250\n",
      "125/125 [==============================] - 0s 2ms/step - loss: 0.0055\n",
      "Epoch 122/250\n",
      "125/125 [==============================] - 0s 2ms/step - loss: 0.0055\n",
      "Epoch 123/250\n",
      "125/125 [==============================] - 0s 2ms/step - loss: 0.0055\n",
      "Epoch 124/250\n",
      "125/125 [==============================] - 0s 2ms/step - loss: 0.0055\n",
      "Epoch 125/250\n",
      "125/125 [==============================] - 0s 2ms/step - loss: 0.0055\n",
      "Epoch 126/250\n",
      "125/125 [==============================] - ETA: 0s - loss: 0.005 - 0s 2ms/step - loss: 0.0055\n",
      "Epoch 127/250\n",
      "125/125 [==============================] - 0s 2ms/step - loss: 0.0055\n",
      "Epoch 128/250\n",
      "125/125 [==============================] - 0s 1ms/step - loss: 0.0055\n",
      "Epoch 129/250\n",
      "125/125 [==============================] - 0s 2ms/step - loss: 0.0055\n",
      "Epoch 130/250\n",
      "125/125 [==============================] - 0s 2ms/step - loss: 0.0055\n",
      "Epoch 131/250\n",
      "125/125 [==============================] - 0s 1ms/step - loss: 0.0055\n",
      "Epoch 132/250\n",
      "125/125 [==============================] - 0s 2ms/step - loss: 0.0055\n",
      "Epoch 133/250\n",
      "125/125 [==============================] - 0s 1ms/step - loss: 0.0055\n",
      "Epoch 134/250\n",
      "125/125 [==============================] - 0s 1ms/step - loss: 0.0055\n",
      "Epoch 135/250\n",
      "125/125 [==============================] - 0s 2ms/step - loss: 0.0055\n",
      "Epoch 136/250\n",
      "125/125 [==============================] - 0s 2ms/step - loss: 0.0055\n",
      "Epoch 137/250\n",
      "125/125 [==============================] - 0s 1ms/step - loss: 0.0055\n",
      "Epoch 138/250\n",
      "125/125 [==============================] - 0s 1ms/step - loss: 0.0055\n",
      "Epoch 139/250\n",
      "125/125 [==============================] - 0s 2ms/step - loss: 0.0055\n",
      "Epoch 140/250\n",
      "125/125 [==============================] - 0s 2ms/step - loss: 0.0055\n",
      "Epoch 141/250\n",
      "125/125 [==============================] - 0s 2ms/step - loss: 0.0054\n",
      "Epoch 142/250\n",
      "125/125 [==============================] - 0s 2ms/step - loss: 0.0055\n",
      "Epoch 143/250\n",
      "125/125 [==============================] - 0s 2ms/step - loss: 0.0055\n",
      "Epoch 144/250\n",
      "125/125 [==============================] - 0s 2ms/step - loss: 0.0055\n",
      "Epoch 145/250\n",
      "125/125 [==============================] - 0s 2ms/step - loss: 0.0055\n",
      "Epoch 146/250\n",
      "125/125 [==============================] - 0s 2ms/step - loss: 0.0055\n",
      "Epoch 147/250\n",
      "125/125 [==============================] - 0s 2ms/step - loss: 0.0055\n",
      "Epoch 148/250\n",
      "125/125 [==============================] - 0s 2ms/step - loss: 0.0055\n",
      "Epoch 149/250\n",
      "125/125 [==============================] - 0s 2ms/step - loss: 0.0055\n",
      "Epoch 150/250\n",
      "125/125 [==============================] - 0s 2ms/step - loss: 0.0055\n",
      "Epoch 151/250\n",
      "125/125 [==============================] - 0s 2ms/step - loss: 0.0055\n",
      "Epoch 152/250\n",
      "125/125 [==============================] - 0s 2ms/step - loss: 0.0055\n",
      "Epoch 153/250\n",
      "125/125 [==============================] - 0s 2ms/step - loss: 0.0054\n",
      "Epoch 154/250\n",
      "125/125 [==============================] - 0s 2ms/step - loss: 0.0055\n",
      "Epoch 155/250\n",
      "125/125 [==============================] - 0s 2ms/step - loss: 0.0055\n",
      "Epoch 156/250\n",
      "125/125 [==============================] - 0s 2ms/step - loss: 0.0055\n",
      "Epoch 157/250\n",
      "125/125 [==============================] - 0s 2ms/step - loss: 0.0055\n",
      "Epoch 158/250\n",
      "125/125 [==============================] - 0s 2ms/step - loss: 0.0054\n",
      "Epoch 159/250\n",
      "125/125 [==============================] - 0s 1ms/step - loss: 0.0055\n",
      "Epoch 160/250\n",
      "125/125 [==============================] - 0s 2ms/step - loss: 0.0055\n",
      "Epoch 161/250\n",
      "125/125 [==============================] - 0s 2ms/step - loss: 0.0054\n",
      "Epoch 162/250\n",
      "125/125 [==============================] - 0s 2ms/step - loss: 0.0054\n",
      "Epoch 163/250\n",
      "125/125 [==============================] - 0s 2ms/step - loss: 0.0054\n",
      "Epoch 164/250\n",
      "125/125 [==============================] - 0s 1ms/step - loss: 0.0054\n",
      "Epoch 165/250\n",
      "125/125 [==============================] - 0s 2ms/step - loss: 0.0055\n",
      "Epoch 166/250\n",
      "125/125 [==============================] - 0s 2ms/step - loss: 0.0055\n",
      "Epoch 167/250\n",
      "125/125 [==============================] - 0s 1ms/step - loss: 0.0054\n",
      "Epoch 168/250\n",
      "125/125 [==============================] - 0s 1ms/step - loss: 0.0055\n",
      "Epoch 169/250\n",
      "125/125 [==============================] - 0s 1ms/step - loss: 0.0055\n",
      "Epoch 170/250\n",
      "125/125 [==============================] - 0s 2ms/step - loss: 0.0055\n",
      "Epoch 171/250\n",
      "125/125 [==============================] - 0s 2ms/step - loss: 0.0054\n",
      "Epoch 172/250\n",
      "125/125 [==============================] - 0s 2ms/step - loss: 0.0055\n",
      "Epoch 173/250\n",
      "125/125 [==============================] - 0s 2ms/step - loss: 0.0054\n",
      "Epoch 174/250\n",
      "125/125 [==============================] - 0s 2ms/step - loss: 0.0054\n",
      "Epoch 175/250\n",
      "125/125 [==============================] - 0s 2ms/step - loss: 0.0054\n",
      "Epoch 176/250\n",
      "125/125 [==============================] - 0s 2ms/step - loss: 0.0055\n",
      "Epoch 177/250\n",
      "125/125 [==============================] - 0s 1ms/step - loss: 0.0054\n",
      "Epoch 178/250\n",
      "125/125 [==============================] - 0s 1ms/step - loss: 0.0055\n",
      "Epoch 179/250\n",
      "125/125 [==============================] - 0s 2ms/step - loss: 0.0054\n",
      "Epoch 180/250\n",
      "125/125 [==============================] - 0s 2ms/step - loss: 0.0054\n",
      "Epoch 181/250\n",
      "125/125 [==============================] - 0s 2ms/step - loss: 0.0054\n",
      "Epoch 182/250\n",
      "125/125 [==============================] - 0s 2ms/step - loss: 0.0054\n",
      "Epoch 183/250\n",
      "125/125 [==============================] - 0s 2ms/step - loss: 0.0054\n",
      "Epoch 184/250\n",
      "125/125 [==============================] - 0s 2ms/step - loss: 0.0054\n",
      "Epoch 185/250\n",
      "125/125 [==============================] - 0s 2ms/step - loss: 0.0054\n",
      "Epoch 186/250\n",
      "125/125 [==============================] - 0s 2ms/step - loss: 0.0055\n",
      "Epoch 187/250\n",
      "125/125 [==============================] - 0s 1ms/step - loss: 0.0055\n",
      "Epoch 188/250\n",
      "125/125 [==============================] - 0s 1ms/step - loss: 0.0054\n",
      "Epoch 189/250\n",
      "125/125 [==============================] - 0s 2ms/step - loss: 0.0054\n",
      "Epoch 190/250\n",
      "125/125 [==============================] - 0s 1ms/step - loss: 0.0054\n",
      "Epoch 191/250\n",
      "125/125 [==============================] - 0s 2ms/step - loss: 0.0055\n",
      "Epoch 192/250\n",
      "125/125 [==============================] - 0s 1ms/step - loss: 0.0054\n",
      "Epoch 193/250\n",
      "125/125 [==============================] - 0s 2ms/step - loss: 0.0054\n",
      "Epoch 194/250\n",
      "125/125 [==============================] - 0s 2ms/step - loss: 0.0055\n",
      "Epoch 195/250\n",
      "125/125 [==============================] - 0s 1ms/step - loss: 0.0054\n",
      "Epoch 196/250\n"
     ]
    },
    {
     "name": "stdout",
     "output_type": "stream",
     "text": [
      "125/125 [==============================] - 0s 2ms/step - loss: 0.0054\n",
      "Epoch 197/250\n",
      "125/125 [==============================] - 0s 2ms/step - loss: 0.0054\n",
      "Epoch 198/250\n",
      "125/125 [==============================] - 0s 2ms/step - loss: 0.0054\n",
      "Epoch 199/250\n",
      "125/125 [==============================] - 0s 2ms/step - loss: 0.0054\n",
      "Epoch 200/250\n",
      "125/125 [==============================] - 0s 1ms/step - loss: 0.0054\n",
      "Epoch 201/250\n",
      "125/125 [==============================] - 0s 1ms/step - loss: 0.0054\n",
      "Epoch 202/250\n",
      "125/125 [==============================] - 0s 2ms/step - loss: 0.0054\n",
      "Epoch 203/250\n",
      "125/125 [==============================] - 0s 2ms/step - loss: 0.0055\n",
      "Epoch 204/250\n",
      "125/125 [==============================] - 0s 2ms/step - loss: 0.0054\n",
      "Epoch 205/250\n",
      "125/125 [==============================] - 0s 1ms/step - loss: 0.0054\n",
      "Epoch 206/250\n",
      "125/125 [==============================] - 0s 2ms/step - loss: 0.0054\n",
      "Epoch 207/250\n",
      "125/125 [==============================] - 0s 1ms/step - loss: 0.0054\n",
      "Epoch 208/250\n",
      "125/125 [==============================] - 0s 1ms/step - loss: 0.0054\n",
      "Epoch 209/250\n",
      "125/125 [==============================] - 0s 2ms/step - loss: 0.0054\n",
      "Epoch 210/250\n",
      "125/125 [==============================] - 0s 2ms/step - loss: 0.0054\n",
      "Epoch 211/250\n",
      "125/125 [==============================] - 0s 2ms/step - loss: 0.0054\n",
      "Epoch 212/250\n",
      "125/125 [==============================] - 0s 2ms/step - loss: 0.0054\n",
      "Epoch 213/250\n",
      "125/125 [==============================] - 0s 1ms/step - loss: 0.0054\n",
      "Epoch 214/250\n",
      "125/125 [==============================] - 0s 2ms/step - loss: 0.0054\n",
      "Epoch 215/250\n",
      "125/125 [==============================] - 0s 2ms/step - loss: 0.0054\n",
      "Epoch 216/250\n",
      "125/125 [==============================] - 0s 2ms/step - loss: 0.0054\n",
      "Epoch 217/250\n",
      "125/125 [==============================] - 0s 2ms/step - loss: 0.0054\n",
      "Epoch 218/250\n",
      "125/125 [==============================] - 0s 1ms/step - loss: 0.0054\n",
      "Epoch 219/250\n",
      "125/125 [==============================] - 0s 1ms/step - loss: 0.0054\n",
      "Epoch 220/250\n",
      "125/125 [==============================] - 0s 1ms/step - loss: 0.0054\n",
      "Epoch 221/250\n",
      "125/125 [==============================] - 0s 1ms/step - loss: 0.0054\n",
      "Epoch 222/250\n",
      "125/125 [==============================] - 0s 2ms/step - loss: 0.0054\n",
      "Epoch 223/250\n",
      "125/125 [==============================] - 0s 2ms/step - loss: 0.0054\n",
      "Epoch 224/250\n",
      "125/125 [==============================] - 0s 2ms/step - loss: 0.0054\n",
      "Epoch 225/250\n",
      "125/125 [==============================] - 0s 1ms/step - loss: 0.0054\n",
      "Epoch 226/250\n",
      "125/125 [==============================] - 0s 2ms/step - loss: 0.0054\n",
      "Epoch 227/250\n",
      "125/125 [==============================] - 0s 2ms/step - loss: 0.0054\n",
      "Epoch 228/250\n",
      "125/125 [==============================] - 0s 2ms/step - loss: 0.0054\n",
      "Epoch 229/250\n",
      "125/125 [==============================] - 0s 2ms/step - loss: 0.0054\n",
      "Epoch 230/250\n",
      "125/125 [==============================] - 0s 2ms/step - loss: 0.0055\n",
      "Epoch 231/250\n",
      "125/125 [==============================] - 0s 2ms/step - loss: 0.0054\n",
      "Epoch 232/250\n",
      "125/125 [==============================] - 0s 2ms/step - loss: 0.0054\n",
      "Epoch 233/250\n",
      "125/125 [==============================] - 0s 2ms/step - loss: 0.0054\n",
      "Epoch 234/250\n",
      "125/125 [==============================] - 0s 2ms/step - loss: 0.0053\n",
      "Epoch 235/250\n",
      "125/125 [==============================] - 0s 2ms/step - loss: 0.0054\n",
      "Epoch 236/250\n",
      "125/125 [==============================] - 0s 1ms/step - loss: 0.0054\n",
      "Epoch 237/250\n",
      "125/125 [==============================] - 0s 2ms/step - loss: 0.0054\n",
      "Epoch 238/250\n",
      "125/125 [==============================] - 0s 2ms/step - loss: 0.0054\n",
      "Epoch 239/250\n",
      "125/125 [==============================] - 0s 2ms/step - loss: 0.0053\n",
      "Epoch 240/250\n",
      "125/125 [==============================] - 0s 2ms/step - loss: 0.0054\n",
      "Epoch 241/250\n",
      "125/125 [==============================] - 0s 2ms/step - loss: 0.0054\n",
      "Epoch 242/250\n",
      "125/125 [==============================] - 0s 2ms/step - loss: 0.0054\n",
      "Epoch 243/250\n",
      "125/125 [==============================] - 0s 1ms/step - loss: 0.0054\n",
      "Epoch 244/250\n",
      "125/125 [==============================] - 0s 1ms/step - loss: 0.0054\n",
      "Epoch 245/250\n",
      "125/125 [==============================] - 0s 2ms/step - loss: 0.0053\n",
      "Epoch 246/250\n",
      "125/125 [==============================] - 0s 1ms/step - loss: 0.0054\n",
      "Epoch 247/250\n",
      "125/125 [==============================] - 0s 1ms/step - loss: 0.0053\n",
      "Epoch 248/250\n",
      "125/125 [==============================] - 0s 1ms/step - loss: 0.0053\n",
      "Epoch 249/250\n",
      "125/125 [==============================] - 0s 1ms/step - loss: 0.0054\n",
      "Epoch 250/250\n",
      "125/125 [==============================] - 0s 2ms/step - loss: 0.0054\n"
     ]
    },
    {
     "data": {
      "text/plain": [
       "<keras.callbacks.History at 0x7c62e4312c70>"
      ]
     },
     "execution_count": 15,
     "metadata": {},
     "output_type": "execute_result"
    }
   ],
   "source": [
    "model.fit(speed_scaled, voltage / 100, epochs=250)"
   ]
  },
  {
   "cell_type": "markdown",
   "id": "e4573ac2",
   "metadata": {},
   "source": [
    "### Plotting the neural net output"
   ]
  },
  {
   "cell_type": "code",
   "execution_count": 16,
   "id": "de7bd670",
   "metadata": {},
   "outputs": [
    {
     "data": {
      "image/png": "[encoded data removed]",
      "text/plain": [
       "<Figure size 432x288 with 1 Axes>"
      ]
     },
     "metadata": {
      "needs_background": "light"
     },
     "output_type": "display_data"
    }
   ],
   "source": [
    "test_a = speed_scaler.transform(np.array(range(600)).reshape(-1,1))\n",
    "predicted_voltage = model.predict(test_a) * 100\n",
    "# Y = min_max_scaler_b.inverse_transform(Y_scaled)\n",
    "\n",
    "plt.figure()\n",
    "plt.title(\"duty cycle vs speed\")\n",
    "plt.scatter(speed,voltage)\n",
    "plt.plot(np.array(range(600)).reshape(-1,1),predicted_voltage,color=\"red\",linewidth=7.0);"
   ]
  },
  {
   "cell_type": "code",
   "execution_count": 17,
   "id": "0b5ee1bd",
   "metadata": {},
   "outputs": [
    {
     "data": {
      "text/plain": [
       "7.3629117429131234"
      ]
     },
     "execution_count": 17,
     "metadata": {},
     "output_type": "execute_result"
    }
   ],
   "source": [
    "predicted_voltage = model.predict(speed_scaler.transform(speed)) * 100\n",
    "np.sqrt(np.mean((predicted_voltage-voltage)**2))"
   ]
  },
  {
   "cell_type": "markdown",
   "id": "3f5bb8d3",
   "metadata": {},
   "source": [
    "Slightly better. 7.5% off though. Let's try to improve."
   ]
  },
  {
   "cell_type": "markdown",
   "id": "c31c92f0",
   "metadata": {},
   "source": [
    "# With acceleration"
   ]
  },
  {
   "cell_type": "markdown",
   "id": "671eb732",
   "metadata": {},
   "source": [
    "Maybe acceleration gives us more context?"
   ]
  },
  {
   "cell_type": "code",
   "execution_count": 18,
   "id": "24ae776f",
   "metadata": {},
   "outputs": [],
   "source": [
    "data_df = pd.read_csv('./run2.csv')\n",
    "data_df = data_df[data_df[\"speed_avg\"] < 600]\n",
    "data_df = data_df[[\"duty_cycle\",\"acc\",\"speed_avg\"]]\n",
    "X = data_df.to_numpy()"
   ]
  },
  {
   "cell_type": "markdown",
   "id": "282c845f",
   "metadata": {},
   "source": [
    "### Linreg again"
   ]
  },
  {
   "cell_type": "code",
   "execution_count": 19,
   "id": "9fe0e070",
   "metadata": {},
   "outputs": [
    {
     "data": {
      "text/plain": [
       "0.7583845405246178"
      ]
     },
     "execution_count": 19,
     "metadata": {},
     "output_type": "execute_result"
    }
   ],
   "source": [
    "linreg = LinearRegression()\n",
    "voltage = X[:,0].reshape(-1,1)\n",
    "X_actual = X[:,1:]\n",
    "linreg.fit(X_actual,voltage)\n",
    "predicted_voltage = linreg.predict(X_actual)\n",
    "linreg.score(X_actual,voltage)"
   ]
  },
  {
   "cell_type": "markdown",
   "id": "53a55eb7",
   "metadata": {},
   "source": [
    "### Linreg rmse"
   ]
  },
  {
   "cell_type": "code",
   "execution_count": 20,
   "id": "ab3a33a3",
   "metadata": {},
   "outputs": [
    {
     "data": {
      "text/plain": [
       "10.750262993837906"
      ]
     },
     "execution_count": 20,
     "metadata": {},
     "output_type": "execute_result"
    }
   ],
   "source": [
    "np.sqrt(np.mean((predicted_voltage-voltage)**2))"
   ]
  },
  {
   "cell_type": "markdown",
   "id": "d68cbdde",
   "metadata": {},
   "source": [
    "So linear regression doesn't really do any better. Maybe a nonlinear relationship exists?"
   ]
  },
  {
   "cell_type": "markdown",
   "id": "293ec53d",
   "metadata": {},
   "source": [
    "### Neural net again"
   ]
  },
  {
   "cell_type": "code",
   "execution_count": 21,
   "id": "2d3d590d",
   "metadata": {},
   "outputs": [
    {
     "name": "stdout",
     "output_type": "stream",
     "text": [
      "Model: \"sequential_1\"\n",
      "_________________________________________________________________\n",
      " Layer (type)                Output Shape              Param #   \n",
      "=================================================================\n",
      " layer1 (Dense)              (None, 12)                36        \n",
      "                                                                 \n",
      " out (Dense)                 (None, 1)                 13        \n",
      "                                                                 \n",
      "=================================================================\n",
      "Total params: 49\n",
      "Trainable params: 49\n",
      "Non-trainable params: 0\n",
      "_________________________________________________________________\n"
     ]
    }
   ],
   "source": [
    "model = keras.Sequential(\n",
    "    [\n",
    "        keras.Input(shape=(2,)),\n",
    "        layers.Dense(12, activation=\"sigmoid\", name=\"layer1\"),\n",
    "        layers.Dense(1, name='out', activation='sigmoid')\n",
    "    ]\n",
    ")\n",
    "model.summary()\n",
    "opt = keras.optimizers.Adam(learning_rate=0.01)\n",
    "model.compile(loss='mean_squared_error', optimizer=opt)"
   ]
  },
  {
   "cell_type": "markdown",
   "id": "b1451820",
   "metadata": {},
   "source": [
    "# Scale the data"
   ]
  },
  {
   "cell_type": "code",
   "execution_count": 23,
   "id": "a5d89819",
   "metadata": {},
   "outputs": [],
   "source": [
    "X_scaler = MinMaxScaler()\n",
    "X_scaler.fit(X_actual)\n",
    "X_scaled = X_scaler.transform(X_actual)"
   ]
  },
  {
   "cell_type": "code",
   "execution_count": 24,
   "id": "50e35d1c",
   "metadata": {
    "scrolled": true
   },
   "outputs": [
    {
     "name": "stdout",
     "output_type": "stream",
     "text": [
      "Epoch 1/250\n",
      "125/125 [==============================] - 0s 1ms/step - loss: 0.0379\n",
      "Epoch 2/250\n",
      "125/125 [==============================] - 0s 2ms/step - loss: 0.0158\n",
      "Epoch 3/250\n",
      "125/125 [==============================] - 0s 2ms/step - loss: 0.0111\n",
      "Epoch 4/250\n",
      "125/125 [==============================] - 0s 2ms/step - loss: 0.0106\n",
      "Epoch 5/250\n",
      "125/125 [==============================] - 0s 2ms/step - loss: 0.0101\n",
      "Epoch 6/250\n",
      "125/125 [==============================] - 0s 2ms/step - loss: 0.0098\n",
      "Epoch 7/250\n",
      "125/125 [==============================] - 0s 2ms/step - loss: 0.0097\n",
      "Epoch 8/250\n",
      "125/125 [==============================] - 0s 2ms/step - loss: 0.0094\n",
      "Epoch 9/250\n",
      "125/125 [==============================] - 0s 2ms/step - loss: 0.0091\n",
      "Epoch 10/250\n",
      "125/125 [==============================] - 0s 2ms/step - loss: 0.0090\n",
      "Epoch 11/250\n",
      "125/125 [==============================] - 0s 2ms/step - loss: 0.0088\n",
      "Epoch 12/250\n",
      "125/125 [==============================] - 0s 1ms/step - loss: 0.0086\n",
      "Epoch 13/250\n",
      "125/125 [==============================] - 0s 1ms/step - loss: 0.0084\n",
      "Epoch 14/250\n",
      "125/125 [==============================] - 0s 2ms/step - loss: 0.0084\n",
      "Epoch 15/250\n",
      "125/125 [==============================] - 0s 2ms/step - loss: 0.0081\n",
      "Epoch 16/250\n",
      "125/125 [==============================] - 0s 2ms/step - loss: 0.0080\n",
      "Epoch 17/250\n",
      "125/125 [==============================] - 0s 2ms/step - loss: 0.0078\n",
      "Epoch 18/250\n",
      "125/125 [==============================] - 0s 2ms/step - loss: 0.0078\n",
      "Epoch 19/250\n",
      "125/125 [==============================] - 0s 2ms/step - loss: 0.0076\n",
      "Epoch 20/250\n",
      "125/125 [==============================] - 0s 2ms/step - loss: 0.0074\n",
      "Epoch 21/250\n",
      "125/125 [==============================] - 0s 2ms/step - loss: 0.0072\n",
      "Epoch 22/250\n",
      "125/125 [==============================] - 0s 2ms/step - loss: 0.0072\n",
      "Epoch 23/250\n",
      "125/125 [==============================] - 0s 2ms/step - loss: 0.0070\n",
      "Epoch 24/250\n",
      "125/125 [==============================] - 0s 2ms/step - loss: 0.0069\n",
      "Epoch 25/250\n",
      "125/125 [==============================] - 0s 2ms/step - loss: 0.0068\n",
      "Epoch 26/250\n",
      "125/125 [==============================] - 0s 2ms/step - loss: 0.0068\n",
      "Epoch 27/250\n",
      "125/125 [==============================] - 0s 2ms/step - loss: 0.0067\n",
      "Epoch 28/250\n",
      "125/125 [==============================] - 0s 2ms/step - loss: 0.0066\n",
      "Epoch 29/250\n",
      "125/125 [==============================] - 0s 2ms/step - loss: 0.0065\n",
      "Epoch 30/250\n",
      "125/125 [==============================] - 0s 2ms/step - loss: 0.0066\n",
      "Epoch 31/250\n",
      "125/125 [==============================] - 0s 2ms/step - loss: 0.0065\n",
      "Epoch 32/250\n",
      "125/125 [==============================] - 0s 2ms/step - loss: 0.0064\n",
      "Epoch 33/250\n",
      "125/125 [==============================] - 0s 2ms/step - loss: 0.0063\n",
      "Epoch 34/250\n",
      "125/125 [==============================] - 0s 2ms/step - loss: 0.0064\n",
      "Epoch 35/250\n",
      "125/125 [==============================] - 0s 2ms/step - loss: 0.0063\n",
      "Epoch 36/250\n",
      "125/125 [==============================] - 0s 2ms/step - loss: 0.0064\n",
      "Epoch 37/250\n",
      "125/125 [==============================] - 0s 2ms/step - loss: 0.0063\n",
      "Epoch 38/250\n",
      "125/125 [==============================] - 0s 2ms/step - loss: 0.0062\n",
      "Epoch 39/250\n",
      "125/125 [==============================] - 0s 2ms/step - loss: 0.0062\n",
      "Epoch 40/250\n",
      "125/125 [==============================] - 0s 2ms/step - loss: 0.0061\n",
      "Epoch 41/250\n",
      "125/125 [==============================] - 0s 2ms/step - loss: 0.0061\n",
      "Epoch 42/250\n",
      "125/125 [==============================] - 0s 2ms/step - loss: 0.0063\n",
      "Epoch 43/250\n",
      "125/125 [==============================] - 0s 2ms/step - loss: 0.0062\n",
      "Epoch 44/250\n",
      "125/125 [==============================] - 0s 2ms/step - loss: 0.0062\n",
      "Epoch 45/250\n",
      "125/125 [==============================] - 0s 2ms/step - loss: 0.0061\n",
      "Epoch 46/250\n",
      "125/125 [==============================] - 0s 2ms/step - loss: 0.0061\n",
      "Epoch 47/250\n",
      "125/125 [==============================] - 0s 2ms/step - loss: 0.0061\n",
      "Epoch 48/250\n",
      "125/125 [==============================] - 0s 2ms/step - loss: 0.0062\n",
      "Epoch 49/250\n",
      "125/125 [==============================] - 0s 2ms/step - loss: 0.0061\n",
      "Epoch 50/250\n",
      "125/125 [==============================] - 0s 2ms/step - loss: 0.0060\n",
      "Epoch 51/250\n",
      "125/125 [==============================] - 0s 2ms/step - loss: 0.0060\n",
      "Epoch 52/250\n",
      "125/125 [==============================] - 0s 2ms/step - loss: 0.0060\n",
      "Epoch 53/250\n",
      "125/125 [==============================] - 0s 2ms/step - loss: 0.0060\n",
      "Epoch 54/250\n",
      "125/125 [==============================] - 0s 1ms/step - loss: 0.0061\n",
      "Epoch 55/250\n",
      "125/125 [==============================] - 0s 2ms/step - loss: 0.0061\n",
      "Epoch 56/250\n",
      "125/125 [==============================] - 0s 2ms/step - loss: 0.0061\n",
      "Epoch 57/250\n",
      "125/125 [==============================] - 0s 2ms/step - loss: 0.0060\n",
      "Epoch 58/250\n",
      "125/125 [==============================] - 0s 1ms/step - loss: 0.0059\n",
      "Epoch 59/250\n",
      "125/125 [==============================] - 0s 2ms/step - loss: 0.0060\n",
      "Epoch 60/250\n",
      "125/125 [==============================] - 0s 2ms/step - loss: 0.0060\n",
      "Epoch 61/250\n",
      "125/125 [==============================] - 0s 2ms/step - loss: 0.0060\n",
      "Epoch 62/250\n",
      "125/125 [==============================] - 0s 2ms/step - loss: 0.0059\n",
      "Epoch 63/250\n",
      "125/125 [==============================] - 0s 2ms/step - loss: 0.0060\n",
      "Epoch 64/250\n",
      "125/125 [==============================] - 0s 2ms/step - loss: 0.0059\n",
      "Epoch 65/250\n",
      "125/125 [==============================] - 0s 2ms/step - loss: 0.0059\n",
      "Epoch 66/250\n",
      "125/125 [==============================] - 0s 2ms/step - loss: 0.0059\n",
      "Epoch 67/250\n",
      "125/125 [==============================] - 0s 2ms/step - loss: 0.0059\n",
      "Epoch 68/250\n",
      "125/125 [==============================] - 0s 2ms/step - loss: 0.0058\n",
      "Epoch 69/250\n",
      "125/125 [==============================] - 0s 2ms/step - loss: 0.0058\n",
      "Epoch 70/250\n",
      "125/125 [==============================] - 0s 2ms/step - loss: 0.0059\n",
      "Epoch 71/250\n",
      "125/125 [==============================] - 0s 2ms/step - loss: 0.0058\n",
      "Epoch 72/250\n",
      "125/125 [==============================] - 0s 2ms/step - loss: 0.0059\n",
      "Epoch 73/250\n",
      "125/125 [==============================] - 0s 2ms/step - loss: 0.0059\n",
      "Epoch 74/250\n",
      "125/125 [==============================] - 0s 2ms/step - loss: 0.0059\n",
      "Epoch 75/250\n",
      "125/125 [==============================] - 0s 2ms/step - loss: 0.0058\n",
      "Epoch 76/250\n",
      "125/125 [==============================] - 0s 2ms/step - loss: 0.0059\n",
      "Epoch 77/250\n",
      "125/125 [==============================] - 0s 2ms/step - loss: 0.0058\n",
      "Epoch 78/250\n",
      "125/125 [==============================] - 0s 2ms/step - loss: 0.0058\n",
      "Epoch 79/250\n",
      "125/125 [==============================] - 0s 2ms/step - loss: 0.0058\n",
      "Epoch 80/250\n",
      "125/125 [==============================] - 0s 2ms/step - loss: 0.0058\n",
      "Epoch 81/250\n",
      "125/125 [==============================] - 0s 2ms/step - loss: 0.0059\n",
      "Epoch 82/250\n",
      "125/125 [==============================] - 0s 2ms/step - loss: 0.0058\n",
      "Epoch 83/250\n",
      "125/125 [==============================] - 0s 2ms/step - loss: 0.0059\n",
      "Epoch 84/250\n",
      "125/125 [==============================] - 0s 2ms/step - loss: 0.0059\n",
      "Epoch 85/250\n",
      "125/125 [==============================] - 0s 2ms/step - loss: 0.0058\n",
      "Epoch 86/250\n",
      "125/125 [==============================] - 0s 2ms/step - loss: 0.0058\n",
      "Epoch 87/250\n",
      "125/125 [==============================] - 0s 2ms/step - loss: 0.0059\n",
      "Epoch 88/250\n",
      "125/125 [==============================] - 0s 2ms/step - loss: 0.0058\n",
      "Epoch 89/250\n",
      "125/125 [==============================] - 0s 2ms/step - loss: 0.0058\n",
      "Epoch 90/250\n",
      "125/125 [==============================] - 0s 2ms/step - loss: 0.0057\n",
      "Epoch 91/250\n",
      "125/125 [==============================] - 0s 2ms/step - loss: 0.0058\n",
      "Epoch 92/250\n",
      "125/125 [==============================] - 0s 2ms/step - loss: 0.0057\n",
      "Epoch 93/250\n",
      "125/125 [==============================] - 0s 2ms/step - loss: 0.0057\n",
      "Epoch 94/250\n",
      "125/125 [==============================] - 0s 2ms/step - loss: 0.0058\n",
      "Epoch 95/250\n",
      "125/125 [==============================] - 0s 2ms/step - loss: 0.0057\n",
      "Epoch 96/250\n",
      "125/125 [==============================] - 0s 2ms/step - loss: 0.0058\n",
      "Epoch 97/250\n",
      "125/125 [==============================] - 0s 2ms/step - loss: 0.0057\n",
      "Epoch 98/250\n",
      "125/125 [==============================] - 0s 2ms/step - loss: 0.0057\n",
      "Epoch 99/250\n"
     ]
    },
    {
     "name": "stdout",
     "output_type": "stream",
     "text": [
      "125/125 [==============================] - 0s 2ms/step - loss: 0.0057\n",
      "Epoch 100/250\n",
      "125/125 [==============================] - 0s 2ms/step - loss: 0.0057\n",
      "Epoch 101/250\n",
      "125/125 [==============================] - 0s 2ms/step - loss: 0.0057\n",
      "Epoch 102/250\n",
      "125/125 [==============================] - 0s 2ms/step - loss: 0.0057\n",
      "Epoch 103/250\n",
      "125/125 [==============================] - 0s 2ms/step - loss: 0.0057\n",
      "Epoch 104/250\n",
      "125/125 [==============================] - 0s 2ms/step - loss: 0.0058\n",
      "Epoch 105/250\n",
      "125/125 [==============================] - 0s 2ms/step - loss: 0.0057\n",
      "Epoch 106/250\n",
      "125/125 [==============================] - 0s 2ms/step - loss: 0.0057\n",
      "Epoch 107/250\n",
      "125/125 [==============================] - 0s 1ms/step - loss: 0.0056\n",
      "Epoch 108/250\n",
      "125/125 [==============================] - 0s 2ms/step - loss: 0.0056\n",
      "Epoch 109/250\n",
      "125/125 [==============================] - 0s 2ms/step - loss: 0.0056\n",
      "Epoch 110/250\n",
      "125/125 [==============================] - 0s 2ms/step - loss: 0.0057\n",
      "Epoch 111/250\n",
      "125/125 [==============================] - 0s 1ms/step - loss: 0.0057\n",
      "Epoch 112/250\n",
      "125/125 [==============================] - 0s 1ms/step - loss: 0.0057\n",
      "Epoch 113/250\n",
      "125/125 [==============================] - 0s 2ms/step - loss: 0.0057\n",
      "Epoch 114/250\n",
      "125/125 [==============================] - 0s 2ms/step - loss: 0.0057\n",
      "Epoch 115/250\n",
      "125/125 [==============================] - 0s 1ms/step - loss: 0.0056\n",
      "Epoch 116/250\n",
      "125/125 [==============================] - 0s 2ms/step - loss: 0.0057\n",
      "Epoch 117/250\n",
      "125/125 [==============================] - 0s 2ms/step - loss: 0.0056\n",
      "Epoch 118/250\n",
      "125/125 [==============================] - 0s 2ms/step - loss: 0.0056\n",
      "Epoch 119/250\n",
      "125/125 [==============================] - 0s 2ms/step - loss: 0.0056\n",
      "Epoch 120/250\n",
      "125/125 [==============================] - 0s 2ms/step - loss: 0.0056\n",
      "Epoch 121/250\n",
      "125/125 [==============================] - 0s 2ms/step - loss: 0.0056\n",
      "Epoch 122/250\n",
      "125/125 [==============================] - 0s 1ms/step - loss: 0.0058\n",
      "Epoch 123/250\n",
      "125/125 [==============================] - 0s 1ms/step - loss: 0.0056\n",
      "Epoch 124/250\n",
      "125/125 [==============================] - 0s 1ms/step - loss: 0.0056\n",
      "Epoch 125/250\n",
      "125/125 [==============================] - 0s 1ms/step - loss: 0.0056\n",
      "Epoch 126/250\n",
      "125/125 [==============================] - 0s 1ms/step - loss: 0.0056\n",
      "Epoch 127/250\n",
      "125/125 [==============================] - 0s 1ms/step - loss: 0.0057\n",
      "Epoch 128/250\n",
      "125/125 [==============================] - 0s 1ms/step - loss: 0.0056\n",
      "Epoch 129/250\n",
      "125/125 [==============================] - 0s 1ms/step - loss: 0.0056\n",
      "Epoch 130/250\n",
      "125/125 [==============================] - 0s 1ms/step - loss: 0.0056\n",
      "Epoch 131/250\n",
      "125/125 [==============================] - 0s 2ms/step - loss: 0.0055\n",
      "Epoch 132/250\n",
      "125/125 [==============================] - 0s 2ms/step - loss: 0.0055\n",
      "Epoch 133/250\n",
      "125/125 [==============================] - 0s 1ms/step - loss: 0.0055\n",
      "Epoch 134/250\n",
      "125/125 [==============================] - 0s 1ms/step - loss: 0.0055\n",
      "Epoch 135/250\n",
      "125/125 [==============================] - 0s 1ms/step - loss: 0.0055\n",
      "Epoch 136/250\n",
      "125/125 [==============================] - 0s 1ms/step - loss: 0.0055\n",
      "Epoch 137/250\n",
      "125/125 [==============================] - 0s 2ms/step - loss: 0.0056\n",
      "Epoch 138/250\n",
      "125/125 [==============================] - 0s 2ms/step - loss: 0.0056\n",
      "Epoch 139/250\n",
      "125/125 [==============================] - 0s 2ms/step - loss: 0.0055\n",
      "Epoch 140/250\n",
      "125/125 [==============================] - 0s 2ms/step - loss: 0.0055\n",
      "Epoch 141/250\n",
      "125/125 [==============================] - 0s 2ms/step - loss: 0.0056\n",
      "Epoch 142/250\n",
      "125/125 [==============================] - 0s 2ms/step - loss: 0.0055\n",
      "Epoch 143/250\n",
      "125/125 [==============================] - 0s 2ms/step - loss: 0.0056\n",
      "Epoch 144/250\n",
      "125/125 [==============================] - 0s 2ms/step - loss: 0.0055\n",
      "Epoch 145/250\n",
      "125/125 [==============================] - 0s 2ms/step - loss: 0.0055\n",
      "Epoch 146/250\n",
      "125/125 [==============================] - 0s 2ms/step - loss: 0.0056\n",
      "Epoch 147/250\n",
      "125/125 [==============================] - 0s 2ms/step - loss: 0.0056\n",
      "Epoch 148/250\n",
      "125/125 [==============================] - 0s 2ms/step - loss: 0.0055\n",
      "Epoch 149/250\n",
      "125/125 [==============================] - 0s 1ms/step - loss: 0.0055\n",
      "Epoch 150/250\n",
      "125/125 [==============================] - 0s 1ms/step - loss: 0.0055\n",
      "Epoch 151/250\n",
      "125/125 [==============================] - 0s 1ms/step - loss: 0.0057\n",
      "Epoch 152/250\n",
      "125/125 [==============================] - 0s 1ms/step - loss: 0.0055\n",
      "Epoch 153/250\n",
      "125/125 [==============================] - 0s 2ms/step - loss: 0.0055\n",
      "Epoch 154/250\n",
      "125/125 [==============================] - 0s 1ms/step - loss: 0.0055\n",
      "Epoch 155/250\n",
      "125/125 [==============================] - 0s 1ms/step - loss: 0.0055\n",
      "Epoch 156/250\n",
      "125/125 [==============================] - 0s 2ms/step - loss: 0.0055\n",
      "Epoch 157/250\n",
      "125/125 [==============================] - 0s 1ms/step - loss: 0.0056\n",
      "Epoch 158/250\n",
      "125/125 [==============================] - 0s 1ms/step - loss: 0.0055\n",
      "Epoch 159/250\n",
      "125/125 [==============================] - 0s 1ms/step - loss: 0.0055\n",
      "Epoch 160/250\n",
      "125/125 [==============================] - 0s 2ms/step - loss: 0.0055\n",
      "Epoch 161/250\n",
      "125/125 [==============================] - 0s 1ms/step - loss: 0.0055\n",
      "Epoch 162/250\n",
      "125/125 [==============================] - 0s 1ms/step - loss: 0.0054\n",
      "Epoch 163/250\n",
      "125/125 [==============================] - 0s 1ms/step - loss: 0.0055\n",
      "Epoch 164/250\n",
      "125/125 [==============================] - 0s 2ms/step - loss: 0.0055\n",
      "Epoch 165/250\n",
      "125/125 [==============================] - 0s 1ms/step - loss: 0.0055\n",
      "Epoch 166/250\n",
      "125/125 [==============================] - 0s 1ms/step - loss: 0.0055\n",
      "Epoch 167/250\n",
      "125/125 [==============================] - 0s 2ms/step - loss: 0.0055\n",
      "Epoch 168/250\n",
      "125/125 [==============================] - 0s 2ms/step - loss: 0.0055\n",
      "Epoch 169/250\n",
      "125/125 [==============================] - 0s 1ms/step - loss: 0.0055\n",
      "Epoch 170/250\n",
      "125/125 [==============================] - 0s 1ms/step - loss: 0.0057\n",
      "Epoch 171/250\n",
      "125/125 [==============================] - 0s 1ms/step - loss: 0.0055\n",
      "Epoch 172/250\n",
      "125/125 [==============================] - 0s 1ms/step - loss: 0.0055\n",
      "Epoch 173/250\n",
      "125/125 [==============================] - 0s 1ms/step - loss: 0.0055\n",
      "Epoch 174/250\n",
      "125/125 [==============================] - 0s 1ms/step - loss: 0.0055\n",
      "Epoch 175/250\n",
      "125/125 [==============================] - 0s 1ms/step - loss: 0.0055\n",
      "Epoch 176/250\n",
      "125/125 [==============================] - 0s 1ms/step - loss: 0.0055\n",
      "Epoch 177/250\n",
      "125/125 [==============================] - 0s 1ms/step - loss: 0.0055\n",
      "Epoch 178/250\n",
      "125/125 [==============================] - 0s 1ms/step - loss: 0.0056\n",
      "Epoch 179/250\n",
      "125/125 [==============================] - 0s 1ms/step - loss: 0.0054\n",
      "Epoch 180/250\n",
      "125/125 [==============================] - 0s 1ms/step - loss: 0.0055\n",
      "Epoch 181/250\n",
      "125/125 [==============================] - 0s 2ms/step - loss: 0.0054\n",
      "Epoch 182/250\n",
      "125/125 [==============================] - 0s 1ms/step - loss: 0.0054\n",
      "Epoch 183/250\n",
      "125/125 [==============================] - 0s 1ms/step - loss: 0.0056\n",
      "Epoch 184/250\n",
      "125/125 [==============================] - 0s 2ms/step - loss: 0.0054\n",
      "Epoch 185/250\n",
      "125/125 [==============================] - 0s 2ms/step - loss: 0.0055\n",
      "Epoch 186/250\n",
      "125/125 [==============================] - 0s 1ms/step - loss: 0.0054\n",
      "Epoch 187/250\n",
      "125/125 [==============================] - 0s 1ms/step - loss: 0.0054\n",
      "Epoch 188/250\n",
      "125/125 [==============================] - 0s 2ms/step - loss: 0.0054\n",
      "Epoch 189/250\n",
      "125/125 [==============================] - 0s 2ms/step - loss: 0.0055\n",
      "Epoch 190/250\n",
      "125/125 [==============================] - 0s 2ms/step - loss: 0.0054\n",
      "Epoch 191/250\n",
      "125/125 [==============================] - 0s 2ms/step - loss: 0.0054\n",
      "Epoch 192/250\n",
      "125/125 [==============================] - 0s 2ms/step - loss: 0.0054\n",
      "Epoch 193/250\n",
      "125/125 [==============================] - 0s 2ms/step - loss: 0.0054\n",
      "Epoch 194/250\n",
      "125/125 [==============================] - 0s 1ms/step - loss: 0.0054\n",
      "Epoch 195/250\n",
      "125/125 [==============================] - 0s 2ms/step - loss: 0.0054\n",
      "Epoch 196/250\n"
     ]
    },
    {
     "name": "stdout",
     "output_type": "stream",
     "text": [
      "125/125 [==============================] - 0s 2ms/step - loss: 0.0054\n",
      "Epoch 197/250\n",
      "125/125 [==============================] - 0s 2ms/step - loss: 0.0054\n",
      "Epoch 198/250\n",
      "125/125 [==============================] - 0s 1ms/step - loss: 0.0054\n",
      "Epoch 199/250\n",
      "125/125 [==============================] - 0s 1ms/step - loss: 0.0055\n",
      "Epoch 200/250\n",
      "125/125 [==============================] - 0s 1ms/step - loss: 0.0054\n",
      "Epoch 201/250\n",
      "125/125 [==============================] - 0s 2ms/step - loss: 0.0055\n",
      "Epoch 202/250\n",
      "125/125 [==============================] - 0s 2ms/step - loss: 0.0055\n",
      "Epoch 203/250\n",
      "125/125 [==============================] - 0s 1ms/step - loss: 0.0055\n",
      "Epoch 204/250\n",
      "125/125 [==============================] - 0s 1ms/step - loss: 0.0055\n",
      "Epoch 205/250\n",
      "125/125 [==============================] - 0s 2ms/step - loss: 0.0054\n",
      "Epoch 206/250\n",
      "125/125 [==============================] - 0s 2ms/step - loss: 0.0054\n",
      "Epoch 207/250\n",
      "125/125 [==============================] - 0s 1ms/step - loss: 0.0054\n",
      "Epoch 208/250\n",
      "125/125 [==============================] - 0s 2ms/step - loss: 0.0055\n",
      "Epoch 209/250\n",
      "125/125 [==============================] - 0s 2ms/step - loss: 0.0055\n",
      "Epoch 210/250\n",
      "125/125 [==============================] - 0s 2ms/step - loss: 0.0054\n",
      "Epoch 211/250\n",
      "125/125 [==============================] - 0s 2ms/step - loss: 0.0054\n",
      "Epoch 212/250\n",
      "125/125 [==============================] - 0s 1ms/step - loss: 0.0054\n",
      "Epoch 213/250\n",
      "125/125 [==============================] - 0s 1ms/step - loss: 0.0054\n",
      "Epoch 214/250\n",
      "125/125 [==============================] - 0s 2ms/step - loss: 0.0054\n",
      "Epoch 215/250\n",
      "125/125 [==============================] - 0s 2ms/step - loss: 0.0054\n",
      "Epoch 216/250\n",
      "125/125 [==============================] - 0s 2ms/step - loss: 0.0055\n",
      "Epoch 217/250\n",
      "125/125 [==============================] - 0s 2ms/step - loss: 0.0054\n",
      "Epoch 218/250\n",
      "125/125 [==============================] - 0s 1ms/step - loss: 0.0054\n",
      "Epoch 219/250\n",
      "125/125 [==============================] - 0s 1ms/step - loss: 0.0054\n",
      "Epoch 220/250\n",
      "125/125 [==============================] - 0s 1ms/step - loss: 0.0055\n",
      "Epoch 221/250\n",
      "125/125 [==============================] - 0s 1ms/step - loss: 0.0054\n",
      "Epoch 222/250\n",
      "125/125 [==============================] - 0s 2ms/step - loss: 0.0054\n",
      "Epoch 223/250\n",
      "125/125 [==============================] - 0s 1ms/step - loss: 0.0054\n",
      "Epoch 224/250\n",
      "125/125 [==============================] - 0s 2ms/step - loss: 0.0054\n",
      "Epoch 225/250\n",
      "125/125 [==============================] - 0s 2ms/step - loss: 0.0054\n",
      "Epoch 226/250\n",
      "125/125 [==============================] - 0s 1ms/step - loss: 0.0054\n",
      "Epoch 227/250\n",
      "125/125 [==============================] - 0s 2ms/step - loss: 0.0054\n",
      "Epoch 228/250\n",
      "125/125 [==============================] - 0s 2ms/step - loss: 0.0054\n",
      "Epoch 229/250\n",
      "125/125 [==============================] - 0s 2ms/step - loss: 0.0054\n",
      "Epoch 230/250\n",
      "125/125 [==============================] - 0s 3ms/step - loss: 0.0053\n",
      "Epoch 231/250\n",
      "125/125 [==============================] - 0s 2ms/step - loss: 0.0054\n",
      "Epoch 232/250\n",
      "125/125 [==============================] - 0s 1ms/step - loss: 0.0054\n",
      "Epoch 233/250\n",
      "125/125 [==============================] - 0s 2ms/step - loss: 0.0055\n",
      "Epoch 234/250\n",
      "125/125 [==============================] - 0s 2ms/step - loss: 0.0054\n",
      "Epoch 235/250\n",
      "125/125 [==============================] - 0s 2ms/step - loss: 0.0054\n",
      "Epoch 236/250\n",
      "125/125 [==============================] - 0s 2ms/step - loss: 0.0053\n",
      "Epoch 237/250\n",
      "125/125 [==============================] - 0s 2ms/step - loss: 0.0054\n",
      "Epoch 238/250\n",
      "125/125 [==============================] - 0s 2ms/step - loss: 0.0054\n",
      "Epoch 239/250\n",
      "125/125 [==============================] - 0s 2ms/step - loss: 0.0053\n",
      "Epoch 240/250\n",
      "125/125 [==============================] - 0s 1ms/step - loss: 0.0053\n",
      "Epoch 241/250\n",
      "125/125 [==============================] - 0s 2ms/step - loss: 0.0055\n",
      "Epoch 242/250\n",
      "125/125 [==============================] - 0s 1ms/step - loss: 0.0054\n",
      "Epoch 243/250\n",
      "125/125 [==============================] - 0s 2ms/step - loss: 0.0053\n",
      "Epoch 244/250\n",
      "125/125 [==============================] - 0s 1ms/step - loss: 0.0055\n",
      "Epoch 245/250\n",
      "125/125 [==============================] - 0s 2ms/step - loss: 0.0054\n",
      "Epoch 246/250\n",
      "125/125 [==============================] - 0s 1ms/step - loss: 0.0054\n",
      "Epoch 247/250\n",
      "125/125 [==============================] - 0s 2ms/step - loss: 0.0054\n",
      "Epoch 248/250\n",
      "125/125 [==============================] - 0s 2ms/step - loss: 0.0054\n",
      "Epoch 249/250\n",
      "125/125 [==============================] - 0s 2ms/step - loss: 0.0054\n",
      "Epoch 250/250\n",
      "125/125 [==============================] - 0s 1ms/step - loss: 0.0053\n"
     ]
    },
    {
     "data": {
      "text/plain": [
       "<keras.callbacks.History at 0x7c62e4169340>"
      ]
     },
     "execution_count": 24,
     "metadata": {},
     "output_type": "execute_result"
    }
   ],
   "source": [
    "model.fit(X_scaled, voltage / 100, epochs=250)"
   ]
  },
  {
   "cell_type": "code",
   "execution_count": 25,
   "id": "6dc75be2",
   "metadata": {},
   "outputs": [
    {
     "data": {
      "text/plain": [
       "7.293978256687743"
      ]
     },
     "execution_count": 25,
     "metadata": {},
     "output_type": "execute_result"
    }
   ],
   "source": [
    "predicted_voltage = model.predict(X_scaled) * 100\n",
    "np.sqrt(np.mean((predicted_voltage-voltage)**2))"
   ]
  },
  {
   "cell_type": "markdown",
   "id": "1cde9d69",
   "metadata": {},
   "source": [
    "Rmse is a bit better. Still not amazing."
   ]
  },
  {
   "cell_type": "code",
   "execution_count": 26,
   "id": "e2c983cf",
   "metadata": {},
   "outputs": [
    {
     "data": {
      "text/plain": [
       "<matplotlib.collections.PathCollection at 0x7c62d4fb5760>"
      ]
     },
     "execution_count": 26,
     "metadata": {},
     "output_type": "execute_result"
    },
    {
     "data": {
      "image/png": "[encoded data removed]",
      "text/plain": [
       "<Figure size 720x720 with 1 Axes>"
      ]
     },
     "metadata": {
      "needs_background": "light"
     },
     "output_type": "display_data"
    }
   ],
   "source": [
    "speed = X_scaled[:,1]\n",
    "plt.figure(figsize=(10,10))\n",
    "plt.scatter(speed, voltage)\n",
    "plt.scatter(speed, predicted_voltage)"
   ]
  },
  {
   "cell_type": "markdown",
   "id": "36e1847b",
   "metadata": {},
   "source": [
    "A tiny bit better now. The graph has a nicer spread."
   ]
  },
  {
   "cell_type": "markdown",
   "id": "313ad5d0",
   "metadata": {},
   "source": [
    "# Basic RNN"
   ]
  },
  {
   "cell_type": "markdown",
   "id": "961b28b1",
   "metadata": {},
   "source": [
    "Our data has a temporal aspect. An RNN would probably be great here. Let's try."
   ]
  },
  {
   "cell_type": "markdown",
   "id": "ee57f6d2",
   "metadata": {},
   "source": [
    "### Define lookback as `N` (This is how much context we give to our decision)"
   ]
  },
  {
   "cell_type": "code",
   "execution_count": 27,
   "id": "439456b3",
   "metadata": {},
   "outputs": [],
   "source": [
    "N = 10"
   ]
  },
  {
   "cell_type": "markdown",
   "id": "40978d98",
   "metadata": {},
   "source": [
    "### Let's try a simple RNN first."
   ]
  },
  {
   "cell_type": "code",
   "execution_count": 28,
   "id": "3aabb7a8",
   "metadata": {},
   "outputs": [
    {
     "name": "stdout",
     "output_type": "stream",
     "text": [
      "Model: \"sequential_2\"\n",
      "_________________________________________________________________\n",
      " Layer (type)                Output Shape              Param #   \n",
      "=================================================================\n",
      " rnnlayer (SimpleRNN)        (None, 12)                180       \n",
      "                                                                 \n",
      " layer2 (Dense)              (None, 12)                156       \n",
      "                                                                 \n",
      " out (Dense)                 (None, 1)                 13        \n",
      "                                                                 \n",
      "=================================================================\n",
      "Total params: 349\n",
      "Trainable params: 349\n",
      "Non-trainable params: 0\n",
      "_________________________________________________________________\n"
     ]
    }
   ],
   "source": [
    "model = keras.Sequential(\n",
    "    [\n",
    "        keras.Input(shape=(N,2)),\n",
    "        layers.SimpleRNN(12, name=\"rnnlayer\"),\n",
    "        layers.Dense(12, activation=\"sigmoid\", name=\"layer2\"),\n",
    "        layers.Dense(1, name='out', activation='sigmoid')\n",
    "    ]\n",
    ")\n",
    "model.summary()\n",
    "opt = keras.optimizers.Adam(learning_rate=0.01)\n",
    "model.compile(loss='mean_squared_error', optimizer=opt)"
   ]
  },
  {
   "cell_type": "markdown",
   "id": "926cb921",
   "metadata": {},
   "source": [
    "### Get continuous sequences from the data"
   ]
  },
  {
   "cell_type": "markdown",
   "id": "cda3b6bb",
   "metadata": {},
   "source": [
    "The data has splits in it whenver a turn was made, so we need to find the parts that are continuous to train on."
   ]
  },
  {
   "cell_type": "markdown",
   "id": "e88b79b1",
   "metadata": {},
   "source": [
    "### Build training data from the continuous sequences"
   ]
  },
  {
   "cell_type": "code",
   "execution_count": 29,
   "id": "0b4d243b",
   "metadata": {},
   "outputs": [
    {
     "name": "stdout",
     "output_type": "stream",
     "text": [
      "32\n",
      "(3509, 10, 2) (3509, 1)\n"
     ]
    }
   ],
   "source": [
    "data_df = pd.read_csv('./run2.csv')\n",
    "data_df = data_df[data_df[\"speed_avg\"] < 600]\n",
    "data_df = data_df[[\"ts\",\"duty_cycle\",\"acc\",\"speed_avg\"]]\n",
    "X = data_df.to_numpy()\n",
    "\n",
    "timestamps = X[:,0] \n",
    "ts_diffs = timestamps[1:] - timestamps[:-1]\n",
    "\n",
    "sequences = []\n",
    "current_sequence = []\n",
    "\n",
    "for i, diff in enumerate(ts_diffs):\n",
    "    if diff < 101:\n",
    "        current_sequence.append(i)\n",
    "    else:\n",
    "        if len(current_sequence) > N * 2:\n",
    "            sequences.append(current_sequence)\n",
    "        current_sequence = [i]\n",
    "        \n",
    "print(len(sequences))\n",
    "\n",
    "X_relevant = X[:,2:]\n",
    "Xs_scaler = MinMaxScaler()\n",
    "Xs_scaler.fit(X_relevant)\n",
    "X_relevant = Xs_scaler.transform(X_relevant)\n",
    "\n",
    "# for sequence in sequences:\n",
    "from sklearn.utils import shuffle\n",
    "\n",
    "all_Xs = []\n",
    "all_Ys = []\n",
    "for sequence in sequences[:]:\n",
    "    Xs = []\n",
    "    Ys = []\n",
    "    for n in sequence[N:]:\n",
    "        indexes_x = np.arange(n-N,n)\n",
    "        index_y = n\n",
    "        Ys.append(X[index_y,1])\n",
    "        Xs.append(X_relevant[indexes_x])\n",
    "    all_Xs += Xs\n",
    "    all_Ys += Ys\n",
    "\n",
    "all_Xs = np.array(all_Xs)\n",
    "all_Ys = np.array(all_Ys).reshape(-1,1)\n",
    "\n",
    "all_Xs, all_Ys = shuffle(all_Xs,all_Ys)\n",
    "\n",
    "print(all_Xs.shape, all_Ys.shape)"
   ]
  },
  {
   "cell_type": "code",
   "execution_count": 30,
   "id": "89b94061",
   "metadata": {
    "scrolled": true
   },
   "outputs": [
    {
     "name": "stdout",
     "output_type": "stream",
     "text": [
      "Epoch 1/100\n",
      "110/110 [==============================] - 1s 4ms/step - loss: 0.0177\n",
      "Epoch 2/100\n",
      "110/110 [==============================] - 0s 4ms/step - loss: 0.0096\n",
      "Epoch 3/100\n",
      "110/110 [==============================] - 0s 4ms/step - loss: 0.0077\n",
      "Epoch 4/100\n",
      "110/110 [==============================] - 0s 3ms/step - loss: 0.0060\n",
      "Epoch 5/100\n",
      "110/110 [==============================] - 0s 3ms/step - loss: 0.0049\n",
      "Epoch 6/100\n",
      "110/110 [==============================] - 0s 3ms/step - loss: 0.0047\n",
      "Epoch 7/100\n",
      "110/110 [==============================] - 0s 4ms/step - loss: 0.0044\n",
      "Epoch 8/100\n",
      "110/110 [==============================] - 0s 4ms/step - loss: 0.0039\n",
      "Epoch 9/100\n",
      "110/110 [==============================] - 0s 4ms/step - loss: 0.0044\n",
      "Epoch 10/100\n",
      "110/110 [==============================] - 0s 3ms/step - loss: 0.0038\n",
      "Epoch 11/100\n",
      "110/110 [==============================] - 0s 3ms/step - loss: 0.0037\n",
      "Epoch 12/100\n",
      "110/110 [==============================] - 0s 3ms/step - loss: 0.0040\n",
      "Epoch 13/100\n",
      "110/110 [==============================] - 0s 4ms/step - loss: 0.0038\n",
      "Epoch 14/100\n",
      "110/110 [==============================] - 0s 4ms/step - loss: 0.0035\n",
      "Epoch 15/100\n",
      "110/110 [==============================] - 0s 3ms/step - loss: 0.0034\n",
      "Epoch 16/100\n",
      "110/110 [==============================] - 0s 4ms/step - loss: 0.0033\n",
      "Epoch 17/100\n",
      "110/110 [==============================] - 0s 4ms/step - loss: 0.0032\n",
      "Epoch 18/100\n",
      "110/110 [==============================] - 0s 4ms/step - loss: 0.0032\n",
      "Epoch 19/100\n",
      "110/110 [==============================] - 0s 3ms/step - loss: 0.0033\n",
      "Epoch 20/100\n",
      "110/110 [==============================] - 0s 4ms/step - loss: 0.0031\n",
      "Epoch 21/100\n",
      "110/110 [==============================] - 0s 3ms/step - loss: 0.0030\n",
      "Epoch 22/100\n",
      "110/110 [==============================] - 0s 3ms/step - loss: 0.0033\n",
      "Epoch 23/100\n",
      "110/110 [==============================] - 0s 3ms/step - loss: 0.0031\n",
      "Epoch 24/100\n",
      "110/110 [==============================] - 0s 4ms/step - loss: 0.0031\n",
      "Epoch 25/100\n",
      "110/110 [==============================] - 0s 3ms/step - loss: 0.0030\n",
      "Epoch 26/100\n",
      "110/110 [==============================] - 0s 3ms/step - loss: 0.0033\n",
      "Epoch 27/100\n",
      "110/110 [==============================] - 0s 4ms/step - loss: 0.0032\n",
      "Epoch 28/100\n",
      "110/110 [==============================] - 0s 3ms/step - loss: 0.0030\n",
      "Epoch 29/100\n",
      "110/110 [==============================] - 0s 3ms/step - loss: 0.0032\n",
      "Epoch 30/100\n",
      "110/110 [==============================] - 0s 3ms/step - loss: 0.0033\n",
      "Epoch 31/100\n",
      "110/110 [==============================] - 0s 3ms/step - loss: 0.0031\n",
      "Epoch 32/100\n",
      "110/110 [==============================] - 0s 3ms/step - loss: 0.0029\n",
      "Epoch 33/100\n",
      "110/110 [==============================] - 0s 3ms/step - loss: 0.0031\n",
      "Epoch 34/100\n",
      "110/110 [==============================] - 0s 3ms/step - loss: 0.0031\n",
      "Epoch 35/100\n",
      "110/110 [==============================] - 0s 3ms/step - loss: 0.0030\n",
      "Epoch 36/100\n",
      "110/110 [==============================] - 0s 4ms/step - loss: 0.0029\n",
      "Epoch 37/100\n",
      "110/110 [==============================] - 0s 3ms/step - loss: 0.0028\n",
      "Epoch 38/100\n",
      "110/110 [==============================] - 0s 3ms/step - loss: 0.0031\n",
      "Epoch 39/100\n",
      "110/110 [==============================] - 0s 4ms/step - loss: 0.0029\n",
      "Epoch 40/100\n",
      "110/110 [==============================] - 0s 4ms/step - loss: 0.0029\n",
      "Epoch 41/100\n",
      "110/110 [==============================] - 0s 4ms/step - loss: 0.0029\n",
      "Epoch 42/100\n",
      "110/110 [==============================] - 0s 4ms/step - loss: 0.0029\n",
      "Epoch 43/100\n",
      "110/110 [==============================] - 0s 3ms/step - loss: 0.0027\n",
      "Epoch 44/100\n",
      "110/110 [==============================] - 0s 3ms/step - loss: 0.0029\n",
      "Epoch 45/100\n",
      "110/110 [==============================] - 0s 3ms/step - loss: 0.0031\n",
      "Epoch 46/100\n",
      "110/110 [==============================] - 0s 3ms/step - loss: 0.0030\n",
      "Epoch 47/100\n",
      "110/110 [==============================] - 0s 3ms/step - loss: 0.0030\n",
      "Epoch 48/100\n",
      "110/110 [==============================] - 0s 3ms/step - loss: 0.0029\n",
      "Epoch 49/100\n",
      "110/110 [==============================] - 0s 3ms/step - loss: 0.0030\n",
      "Epoch 50/100\n",
      "110/110 [==============================] - 0s 4ms/step - loss: 0.0027\n",
      "Epoch 51/100\n",
      "110/110 [==============================] - 0s 4ms/step - loss: 0.0028\n",
      "Epoch 52/100\n",
      "110/110 [==============================] - 0s 3ms/step - loss: 0.0028\n",
      "Epoch 53/100\n",
      "110/110 [==============================] - 0s 4ms/step - loss: 0.0031\n",
      "Epoch 54/100\n",
      "110/110 [==============================] - 0s 4ms/step - loss: 0.0031\n",
      "Epoch 55/100\n",
      "110/110 [==============================] - 0s 4ms/step - loss: 0.0029\n",
      "Epoch 56/100\n",
      "110/110 [==============================] - 0s 4ms/step - loss: 0.0029\n",
      "Epoch 57/100\n",
      "110/110 [==============================] - 0s 4ms/step - loss: 0.0027\n",
      "Epoch 58/100\n",
      "110/110 [==============================] - 0s 4ms/step - loss: 0.0027\n",
      "Epoch 59/100\n",
      "110/110 [==============================] - 0s 4ms/step - loss: 0.0027\n",
      "Epoch 60/100\n",
      "110/110 [==============================] - 0s 4ms/step - loss: 0.0027\n",
      "Epoch 61/100\n",
      "110/110 [==============================] - 0s 3ms/step - loss: 0.0027\n",
      "Epoch 62/100\n",
      "110/110 [==============================] - 0s 4ms/step - loss: 0.0027\n",
      "Epoch 63/100\n",
      "110/110 [==============================] - 0s 3ms/step - loss: 0.0027\n",
      "Epoch 64/100\n",
      "110/110 [==============================] - 0s 3ms/step - loss: 0.0027\n",
      "Epoch 65/100\n",
      "110/110 [==============================] - 0s 4ms/step - loss: 0.0028\n",
      "Epoch 66/100\n",
      "110/110 [==============================] - 0s 4ms/step - loss: 0.0028\n",
      "Epoch 67/100\n",
      "110/110 [==============================] - 0s 3ms/step - loss: 0.0027\n",
      "Epoch 68/100\n",
      "110/110 [==============================] - 0s 4ms/step - loss: 0.0028\n",
      "Epoch 69/100\n",
      "110/110 [==============================] - 0s 3ms/step - loss: 0.0028\n",
      "Epoch 70/100\n",
      "110/110 [==============================] - 0s 4ms/step - loss: 0.0027\n",
      "Epoch 71/100\n",
      "110/110 [==============================] - 0s 3ms/step - loss: 0.0028\n",
      "Epoch 72/100\n",
      "110/110 [==============================] - 0s 3ms/step - loss: 0.0029\n",
      "Epoch 73/100\n",
      "110/110 [==============================] - 0s 4ms/step - loss: 0.0027\n",
      "Epoch 74/100\n",
      "110/110 [==============================] - 0s 4ms/step - loss: 0.0027\n",
      "Epoch 75/100\n",
      "110/110 [==============================] - 0s 3ms/step - loss: 0.0029\n",
      "Epoch 76/100\n",
      "110/110 [==============================] - 0s 4ms/step - loss: 0.0032\n",
      "Epoch 77/100\n",
      "110/110 [==============================] - 0s 3ms/step - loss: 0.0029\n",
      "Epoch 78/100\n",
      "110/110 [==============================] - 0s 4ms/step - loss: 0.0026\n",
      "Epoch 79/100\n",
      "110/110 [==============================] - 0s 4ms/step - loss: 0.0029\n",
      "Epoch 80/100\n",
      "110/110 [==============================] - 0s 4ms/step - loss: 0.0026\n",
      "Epoch 81/100\n",
      "110/110 [==============================] - 0s 4ms/step - loss: 0.0027\n",
      "Epoch 82/100\n",
      "110/110 [==============================] - 0s 4ms/step - loss: 0.0027\n",
      "Epoch 83/100\n",
      "110/110 [==============================] - 0s 4ms/step - loss: 0.0028\n",
      "Epoch 84/100\n",
      "110/110 [==============================] - 0s 4ms/step - loss: 0.0028\n",
      "Epoch 85/100\n",
      "110/110 [==============================] - 0s 4ms/step - loss: 0.0027\n",
      "Epoch 86/100\n",
      "110/110 [==============================] - 0s 4ms/step - loss: 0.0025\n",
      "Epoch 87/100\n",
      "110/110 [==============================] - 0s 4ms/step - loss: 0.0027\n",
      "Epoch 88/100\n",
      "110/110 [==============================] - 0s 4ms/step - loss: 0.0029\n",
      "Epoch 89/100\n",
      "110/110 [==============================] - 0s 4ms/step - loss: 0.0025\n",
      "Epoch 90/100\n",
      "110/110 [==============================] - 0s 4ms/step - loss: 0.0027\n",
      "Epoch 91/100\n",
      "110/110 [==============================] - 0s 4ms/step - loss: 0.0028\n",
      "Epoch 92/100\n",
      "110/110 [==============================] - 0s 4ms/step - loss: 0.0027\n",
      "Epoch 93/100\n",
      "110/110 [==============================] - 0s 4ms/step - loss: 0.0027\n",
      "Epoch 94/100\n",
      "110/110 [==============================] - 0s 3ms/step - loss: 0.0028\n",
      "Epoch 95/100\n",
      "110/110 [==============================] - 0s 4ms/step - loss: 0.0027\n",
      "Epoch 96/100\n",
      "110/110 [==============================] - 0s 4ms/step - loss: 0.0027\n",
      "Epoch 97/100\n",
      "110/110 [==============================] - 0s 4ms/step - loss: 0.0026\n",
      "Epoch 98/100\n",
      "110/110 [==============================] - 0s 4ms/step - loss: 0.0026\n",
      "Epoch 99/100\n"
     ]
    },
    {
     "name": "stdout",
     "output_type": "stream",
     "text": [
      "110/110 [==============================] - 0s 3ms/step - loss: 0.0026\n",
      "Epoch 100/100\n",
      "110/110 [==============================] - 0s 4ms/step - loss: 0.0027\n"
     ]
    },
    {
     "data": {
      "text/plain": [
       "<keras.callbacks.History at 0x7c62d4e83d90>"
      ]
     },
     "execution_count": 30,
     "metadata": {},
     "output_type": "execute_result"
    }
   ],
   "source": [
    "model.fit(all_Xs, all_Ys/100, epochs=100, batch_size=32, verbose=1)"
   ]
  },
  {
   "cell_type": "code",
   "execution_count": 31,
   "id": "edba32d4",
   "metadata": {},
   "outputs": [
    {
     "data": {
      "text/plain": [
       "4.906289175963283"
      ]
     },
     "execution_count": 31,
     "metadata": {},
     "output_type": "execute_result"
    }
   ],
   "source": [
    "predicted_voltage = model.predict(all_Xs) * 100\n",
    "np.sqrt(np.mean((predicted_voltage-all_Ys)**2))"
   ]
  },
  {
   "cell_type": "markdown",
   "id": "83faa7b7",
   "metadata": {},
   "source": [
    "Rmse of 4.9 is much better!"
   ]
  },
  {
   "cell_type": "code",
   "execution_count": 51,
   "id": "eb26c8cd",
   "metadata": {},
   "outputs": [
    {
     "data": {
      "text/plain": [
       "<matplotlib.collections.PathCollection at 0x7c6282fafa90>"
      ]
     },
     "execution_count": 51,
     "metadata": {},
     "output_type": "execute_result"
    },
    {
     "data": {
      "image/png": "[encoded data removed]",
      "text/plain": [
       "<Figure size 720x720 with 1 Axes>"
      ]
     },
     "metadata": {
      "needs_background": "light"
     },
     "output_type": "display_data"
    }
   ],
   "source": [
    "plt.figure(figsize=(10,10))\n",
    "plt.scatter(all_Xs[:,N-1,1], all_Ys)\n",
    "plt.scatter(all_Xs[:,N-1,1], predicted_voltage)"
   ]
  },
  {
   "cell_type": "markdown",
   "id": "3dd4e554",
   "metadata": {},
   "source": [
    "Much better spread"
   ]
  },
  {
   "cell_type": "code",
   "execution_count": 43,
   "id": "5207dbe5",
   "metadata": {},
   "outputs": [],
   "source": [
    "from keras.models import save_model\n",
    "\n",
    "save_model(model, \"best_model_ever.h5\")"
   ]
  },
  {
   "cell_type": "markdown",
   "id": "bd64304b",
   "metadata": {},
   "source": [
    "### Lets try lstm"
   ]
  },
  {
   "cell_type": "code",
   "execution_count": 52,
   "id": "82ae1366",
   "metadata": {},
   "outputs": [
    {
     "name": "stdout",
     "output_type": "stream",
     "text": [
      "Model: \"sequential_3\"\n",
      "_________________________________________________________________\n",
      " Layer (type)                Output Shape              Param #   \n",
      "=================================================================\n",
      " lstmlayer (LSTM)            (None, 12)                720       \n",
      "                                                                 \n",
      " layer2 (Dense)              (None, 12)                156       \n",
      "                                                                 \n",
      " out (Dense)                 (None, 1)                 13        \n",
      "                                                                 \n",
      "=================================================================\n",
      "Total params: 889\n",
      "Trainable params: 889\n",
      "Non-trainable params: 0\n",
      "_________________________________________________________________\n"
     ]
    }
   ],
   "source": [
    "model = keras.Sequential(\n",
    "    [\n",
    "        keras.Input(shape=(N,2)),\n",
    "        layers.LSTM(12, name=\"lstmlayer\"),\n",
    "        layers.Dense(12, activation=\"sigmoid\", name=\"layer2\"),\n",
    "        layers.Dense(1, name='out', activation='sigmoid')\n",
    "    ]\n",
    ")\n",
    "model.summary()\n",
    "opt = keras.optimizers.Adam(learning_rate=0.01)\n",
    "model.compile(loss='mean_squared_error', optimizer=opt)"
   ]
  },
  {
   "cell_type": "code",
   "execution_count": 53,
   "id": "06f28e5c",
   "metadata": {},
   "outputs": [
    {
     "name": "stdout",
     "output_type": "stream",
     "text": [
      "Epoch 1/100\n",
      "110/110 [==============================] - 3s 6ms/step - loss: 0.0186\n",
      "Epoch 2/100\n",
      "110/110 [==============================] - 1s 6ms/step - loss: 0.0095\n",
      "Epoch 3/100\n",
      "110/110 [==============================] - 1s 5ms/step - loss: 0.0064\n",
      "Epoch 4/100\n",
      "110/110 [==============================] - 1s 6ms/step - loss: 0.0050\n",
      "Epoch 5/100\n",
      "110/110 [==============================] - 1s 6ms/step - loss: 0.0040\n",
      "Epoch 6/100\n",
      "110/110 [==============================] - 1s 6ms/step - loss: 0.0039\n",
      "Epoch 7/100\n",
      "110/110 [==============================] - 1s 6ms/step - loss: 0.0035\n",
      "Epoch 8/100\n",
      "110/110 [==============================] - 1s 6ms/step - loss: 0.0036\n",
      "Epoch 9/100\n",
      "110/110 [==============================] - 1s 6ms/step - loss: 0.0033\n",
      "Epoch 10/100\n",
      "110/110 [==============================] - 1s 6ms/step - loss: 0.0030\n",
      "Epoch 11/100\n",
      "110/110 [==============================] - 1s 6ms/step - loss: 0.0032\n",
      "Epoch 12/100\n",
      "110/110 [==============================] - 1s 7ms/step - loss: 0.0030\n",
      "Epoch 13/100\n",
      "110/110 [==============================] - 1s 5ms/step - loss: 0.0028\n",
      "Epoch 14/100\n",
      "110/110 [==============================] - 1s 6ms/step - loss: 0.0028\n",
      "Epoch 15/100\n",
      "110/110 [==============================] - 1s 6ms/step - loss: 0.0029\n",
      "Epoch 16/100\n",
      "110/110 [==============================] - 1s 6ms/step - loss: 0.0028\n",
      "Epoch 17/100\n",
      "110/110 [==============================] - 1s 7ms/step - loss: 0.0028\n",
      "Epoch 18/100\n",
      "110/110 [==============================] - 1s 6ms/step - loss: 0.0027\n",
      "Epoch 19/100\n",
      "110/110 [==============================] - 1s 6ms/step - loss: 0.0028\n",
      "Epoch 20/100\n",
      "110/110 [==============================] - 1s 6ms/step - loss: 0.0027\n",
      "Epoch 21/100\n",
      "110/110 [==============================] - 1s 6ms/step - loss: 0.0027\n",
      "Epoch 22/100\n",
      "110/110 [==============================] - 1s 6ms/step - loss: 0.0028\n",
      "Epoch 23/100\n",
      "110/110 [==============================] - 1s 6ms/step - loss: 0.0026\n",
      "Epoch 24/100\n",
      "110/110 [==============================] - 1s 6ms/step - loss: 0.0027\n",
      "Epoch 25/100\n",
      "110/110 [==============================] - 1s 6ms/step - loss: 0.0027\n",
      "Epoch 26/100\n",
      "110/110 [==============================] - 1s 6ms/step - loss: 0.0028\n",
      "Epoch 27/100\n",
      "110/110 [==============================] - 1s 6ms/step - loss: 0.0027\n",
      "Epoch 28/100\n",
      "110/110 [==============================] - 1s 6ms/step - loss: 0.0026\n",
      "Epoch 29/100\n",
      "110/110 [==============================] - 1s 6ms/step - loss: 0.0027\n",
      "Epoch 30/100\n",
      "110/110 [==============================] - 1s 6ms/step - loss: 0.0026\n",
      "Epoch 31/100\n",
      "110/110 [==============================] - 1s 6ms/step - loss: 0.0028\n",
      "Epoch 32/100\n",
      "110/110 [==============================] - 1s 6ms/step - loss: 0.0027\n",
      "Epoch 33/100\n",
      "110/110 [==============================] - 1s 6ms/step - loss: 0.0026\n",
      "Epoch 34/100\n",
      "110/110 [==============================] - 1s 6ms/step - loss: 0.0025\n",
      "Epoch 35/100\n",
      "110/110 [==============================] - 1s 6ms/step - loss: 0.0026\n",
      "Epoch 36/100\n",
      "110/110 [==============================] - 1s 6ms/step - loss: 0.0028\n",
      "Epoch 37/100\n",
      "110/110 [==============================] - 1s 6ms/step - loss: 0.0026\n",
      "Epoch 38/100\n",
      "110/110 [==============================] - 1s 6ms/step - loss: 0.0025\n",
      "Epoch 39/100\n",
      "110/110 [==============================] - 1s 6ms/step - loss: 0.0025\n",
      "Epoch 40/100\n",
      "110/110 [==============================] - 1s 6ms/step - loss: 0.0025\n",
      "Epoch 41/100\n",
      "110/110 [==============================] - 1s 6ms/step - loss: 0.0025\n",
      "Epoch 42/100\n",
      "110/110 [==============================] - 1s 6ms/step - loss: 0.0026\n",
      "Epoch 43/100\n",
      "110/110 [==============================] - 1s 7ms/step - loss: 0.0025\n",
      "Epoch 44/100\n",
      "110/110 [==============================] - 1s 6ms/step - loss: 0.0025\n",
      "Epoch 45/100\n",
      "110/110 [==============================] - 1s 6ms/step - loss: 0.0025\n",
      "Epoch 46/100\n",
      "110/110 [==============================] - 1s 6ms/step - loss: 0.0025\n",
      "Epoch 47/100\n",
      "110/110 [==============================] - 1s 6ms/step - loss: 0.0025\n",
      "Epoch 48/100\n",
      "110/110 [==============================] - 1s 6ms/step - loss: 0.0025\n",
      "Epoch 49/100\n",
      "110/110 [==============================] - 1s 6ms/step - loss: 0.0025\n",
      "Epoch 50/100\n",
      "110/110 [==============================] - 1s 6ms/step - loss: 0.0025\n",
      "Epoch 51/100\n",
      "110/110 [==============================] - 1s 6ms/step - loss: 0.0024\n",
      "Epoch 52/100\n",
      "110/110 [==============================] - 1s 6ms/step - loss: 0.0025\n",
      "Epoch 53/100\n",
      "110/110 [==============================] - 1s 6ms/step - loss: 0.0024\n",
      "Epoch 54/100\n",
      "110/110 [==============================] - 1s 6ms/step - loss: 0.0025\n",
      "Epoch 55/100\n",
      "110/110 [==============================] - 1s 6ms/step - loss: 0.0025\n",
      "Epoch 56/100\n",
      "110/110 [==============================] - 1s 6ms/step - loss: 0.0025\n",
      "Epoch 57/100\n",
      "110/110 [==============================] - 1s 6ms/step - loss: 0.0024\n",
      "Epoch 58/100\n",
      "110/110 [==============================] - 1s 6ms/step - loss: 0.0024\n",
      "Epoch 59/100\n",
      "110/110 [==============================] - 1s 6ms/step - loss: 0.0025\n",
      "Epoch 60/100\n",
      "110/110 [==============================] - 1s 6ms/step - loss: 0.0024\n",
      "Epoch 61/100\n",
      "110/110 [==============================] - 1s 5ms/step - loss: 0.0024\n",
      "Epoch 62/100\n",
      "110/110 [==============================] - 1s 6ms/step - loss: 0.0024\n",
      "Epoch 63/100\n",
      "110/110 [==============================] - 1s 6ms/step - loss: 0.0026\n",
      "Epoch 64/100\n",
      "110/110 [==============================] - 1s 6ms/step - loss: 0.0024\n",
      "Epoch 65/100\n",
      "110/110 [==============================] - 1s 6ms/step - loss: 0.0024\n",
      "Epoch 66/100\n",
      "110/110 [==============================] - 1s 6ms/step - loss: 0.0024\n",
      "Epoch 67/100\n",
      "110/110 [==============================] - 1s 6ms/step - loss: 0.0023\n",
      "Epoch 68/100\n",
      "110/110 [==============================] - 1s 6ms/step - loss: 0.0027\n",
      "Epoch 69/100\n",
      "110/110 [==============================] - 1s 6ms/step - loss: 0.0023\n",
      "Epoch 70/100\n",
      "110/110 [==============================] - 1s 7ms/step - loss: 0.0023\n",
      "Epoch 71/100\n",
      " 47/110 [===========>..................] - ETA: 0s - loss: 0.0025"
     ]
    },
    {
     "ename": "KeyboardInterrupt",
     "evalue": "",
     "output_type": "error",
     "traceback": [
      "\u001b[0;31m---------------------------------------------------------------------------\u001b[0m",
      "\u001b[0;31mKeyboardInterrupt\u001b[0m                         Traceback (most recent call last)",
      "Input \u001b[0;32mIn [53]\u001b[0m, in \u001b[0;36m<module>\u001b[0;34m\u001b[0m\n\u001b[0;32m----> 1\u001b[0m \u001b[43mmodel\u001b[49m\u001b[38;5;241;43m.\u001b[39;49m\u001b[43mfit\u001b[49m\u001b[43m(\u001b[49m\u001b[43mall_Xs\u001b[49m\u001b[43m,\u001b[49m\u001b[43m \u001b[49m\u001b[43mall_Ys\u001b[49m\u001b[38;5;241;43m/\u001b[39;49m\u001b[38;5;241;43m100\u001b[39;49m\u001b[43m,\u001b[49m\u001b[43m \u001b[49m\u001b[43mepochs\u001b[49m\u001b[38;5;241;43m=\u001b[39;49m\u001b[38;5;241;43m100\u001b[39;49m\u001b[43m,\u001b[49m\u001b[43m \u001b[49m\u001b[43mbatch_size\u001b[49m\u001b[38;5;241;43m=\u001b[39;49m\u001b[38;5;241;43m32\u001b[39;49m\u001b[43m,\u001b[49m\u001b[43m \u001b[49m\u001b[43mverbose\u001b[49m\u001b[38;5;241;43m=\u001b[39;49m\u001b[38;5;241;43m1\u001b[39;49m\u001b[43m)\u001b[49m\n",
      "File \u001b[0;32m~/.local/lib/python3.9/site-packages/keras/utils/traceback_utils.py:64\u001b[0m, in \u001b[0;36mfilter_traceback.<locals>.error_handler\u001b[0;34m(*args, **kwargs)\u001b[0m\n\u001b[1;32m     62\u001b[0m filtered_tb \u001b[38;5;241m=\u001b[39m \u001b[38;5;28;01mNone\u001b[39;00m\n\u001b[1;32m     63\u001b[0m \u001b[38;5;28;01mtry\u001b[39;00m:\n\u001b[0;32m---> 64\u001b[0m   \u001b[38;5;28;01mreturn\u001b[39;00m \u001b[43mfn\u001b[49m\u001b[43m(\u001b[49m\u001b[38;5;241;43m*\u001b[39;49m\u001b[43margs\u001b[49m\u001b[43m,\u001b[49m\u001b[43m \u001b[49m\u001b[38;5;241;43m*\u001b[39;49m\u001b[38;5;241;43m*\u001b[39;49m\u001b[43mkwargs\u001b[49m\u001b[43m)\u001b[49m\n\u001b[1;32m     65\u001b[0m \u001b[38;5;28;01mexcept\u001b[39;00m \u001b[38;5;167;01mException\u001b[39;00m \u001b[38;5;28;01mas\u001b[39;00m e:  \u001b[38;5;66;03m# pylint: disable=broad-except\u001b[39;00m\n\u001b[1;32m     66\u001b[0m   filtered_tb \u001b[38;5;241m=\u001b[39m _process_traceback_frames(e\u001b[38;5;241m.\u001b[39m__traceback__)\n",
      "File \u001b[0;32m~/.local/lib/python3.9/site-packages/keras/engine/training.py:1216\u001b[0m, in \u001b[0;36mModel.fit\u001b[0;34m(self, x, y, batch_size, epochs, verbose, callbacks, validation_split, validation_data, shuffle, class_weight, sample_weight, initial_epoch, steps_per_epoch, validation_steps, validation_batch_size, validation_freq, max_queue_size, workers, use_multiprocessing)\u001b[0m\n\u001b[1;32m   1209\u001b[0m \u001b[38;5;28;01mwith\u001b[39;00m tf\u001b[38;5;241m.\u001b[39mprofiler\u001b[38;5;241m.\u001b[39mexperimental\u001b[38;5;241m.\u001b[39mTrace(\n\u001b[1;32m   1210\u001b[0m     \u001b[38;5;124m'\u001b[39m\u001b[38;5;124mtrain\u001b[39m\u001b[38;5;124m'\u001b[39m,\n\u001b[1;32m   1211\u001b[0m     epoch_num\u001b[38;5;241m=\u001b[39mepoch,\n\u001b[1;32m   1212\u001b[0m     step_num\u001b[38;5;241m=\u001b[39mstep,\n\u001b[1;32m   1213\u001b[0m     batch_size\u001b[38;5;241m=\u001b[39mbatch_size,\n\u001b[1;32m   1214\u001b[0m     _r\u001b[38;5;241m=\u001b[39m\u001b[38;5;241m1\u001b[39m):\n\u001b[1;32m   1215\u001b[0m   callbacks\u001b[38;5;241m.\u001b[39mon_train_batch_begin(step)\n\u001b[0;32m-> 1216\u001b[0m   tmp_logs \u001b[38;5;241m=\u001b[39m \u001b[38;5;28;43mself\u001b[39;49m\u001b[38;5;241;43m.\u001b[39;49m\u001b[43mtrain_function\u001b[49m\u001b[43m(\u001b[49m\u001b[43miterator\u001b[49m\u001b[43m)\u001b[49m\n\u001b[1;32m   1217\u001b[0m   \u001b[38;5;28;01mif\u001b[39;00m data_handler\u001b[38;5;241m.\u001b[39mshould_sync:\n\u001b[1;32m   1218\u001b[0m     context\u001b[38;5;241m.\u001b[39masync_wait()\n",
      "File \u001b[0;32m~/.local/lib/python3.9/site-packages/tensorflow/python/util/traceback_utils.py:150\u001b[0m, in \u001b[0;36mfilter_traceback.<locals>.error_handler\u001b[0;34m(*args, **kwargs)\u001b[0m\n\u001b[1;32m    148\u001b[0m filtered_tb \u001b[38;5;241m=\u001b[39m \u001b[38;5;28;01mNone\u001b[39;00m\n\u001b[1;32m    149\u001b[0m \u001b[38;5;28;01mtry\u001b[39;00m:\n\u001b[0;32m--> 150\u001b[0m   \u001b[38;5;28;01mreturn\u001b[39;00m \u001b[43mfn\u001b[49m\u001b[43m(\u001b[49m\u001b[38;5;241;43m*\u001b[39;49m\u001b[43margs\u001b[49m\u001b[43m,\u001b[49m\u001b[43m \u001b[49m\u001b[38;5;241;43m*\u001b[39;49m\u001b[38;5;241;43m*\u001b[39;49m\u001b[43mkwargs\u001b[49m\u001b[43m)\u001b[49m\n\u001b[1;32m    151\u001b[0m \u001b[38;5;28;01mexcept\u001b[39;00m \u001b[38;5;167;01mException\u001b[39;00m \u001b[38;5;28;01mas\u001b[39;00m e:\n\u001b[1;32m    152\u001b[0m   filtered_tb \u001b[38;5;241m=\u001b[39m _process_traceback_frames(e\u001b[38;5;241m.\u001b[39m__traceback__)\n",
      "File \u001b[0;32m~/.local/lib/python3.9/site-packages/tensorflow/python/eager/def_function.py:910\u001b[0m, in \u001b[0;36mFunction.__call__\u001b[0;34m(self, *args, **kwds)\u001b[0m\n\u001b[1;32m    907\u001b[0m compiler \u001b[38;5;241m=\u001b[39m \u001b[38;5;124m\"\u001b[39m\u001b[38;5;124mxla\u001b[39m\u001b[38;5;124m\"\u001b[39m \u001b[38;5;28;01mif\u001b[39;00m \u001b[38;5;28mself\u001b[39m\u001b[38;5;241m.\u001b[39m_jit_compile \u001b[38;5;28;01melse\u001b[39;00m \u001b[38;5;124m\"\u001b[39m\u001b[38;5;124mnonXla\u001b[39m\u001b[38;5;124m\"\u001b[39m\n\u001b[1;32m    909\u001b[0m \u001b[38;5;28;01mwith\u001b[39;00m OptionalXlaContext(\u001b[38;5;28mself\u001b[39m\u001b[38;5;241m.\u001b[39m_jit_compile):\n\u001b[0;32m--> 910\u001b[0m   result \u001b[38;5;241m=\u001b[39m \u001b[38;5;28;43mself\u001b[39;49m\u001b[38;5;241;43m.\u001b[39;49m\u001b[43m_call\u001b[49m\u001b[43m(\u001b[49m\u001b[38;5;241;43m*\u001b[39;49m\u001b[43margs\u001b[49m\u001b[43m,\u001b[49m\u001b[43m \u001b[49m\u001b[38;5;241;43m*\u001b[39;49m\u001b[38;5;241;43m*\u001b[39;49m\u001b[43mkwds\u001b[49m\u001b[43m)\u001b[49m\n\u001b[1;32m    912\u001b[0m new_tracing_count \u001b[38;5;241m=\u001b[39m \u001b[38;5;28mself\u001b[39m\u001b[38;5;241m.\u001b[39mexperimental_get_tracing_count()\n\u001b[1;32m    913\u001b[0m without_tracing \u001b[38;5;241m=\u001b[39m (tracing_count \u001b[38;5;241m==\u001b[39m new_tracing_count)\n",
      "File \u001b[0;32m~/.local/lib/python3.9/site-packages/tensorflow/python/eager/def_function.py:942\u001b[0m, in \u001b[0;36mFunction._call\u001b[0;34m(self, *args, **kwds)\u001b[0m\n\u001b[1;32m    939\u001b[0m   \u001b[38;5;28mself\u001b[39m\u001b[38;5;241m.\u001b[39m_lock\u001b[38;5;241m.\u001b[39mrelease()\n\u001b[1;32m    940\u001b[0m   \u001b[38;5;66;03m# In this case we have created variables on the first call, so we run the\u001b[39;00m\n\u001b[1;32m    941\u001b[0m   \u001b[38;5;66;03m# defunned version which is guaranteed to never create variables.\u001b[39;00m\n\u001b[0;32m--> 942\u001b[0m   \u001b[38;5;28;01mreturn\u001b[39;00m \u001b[38;5;28;43mself\u001b[39;49m\u001b[38;5;241;43m.\u001b[39;49m\u001b[43m_stateless_fn\u001b[49m\u001b[43m(\u001b[49m\u001b[38;5;241;43m*\u001b[39;49m\u001b[43margs\u001b[49m\u001b[43m,\u001b[49m\u001b[43m \u001b[49m\u001b[38;5;241;43m*\u001b[39;49m\u001b[38;5;241;43m*\u001b[39;49m\u001b[43mkwds\u001b[49m\u001b[43m)\u001b[49m  \u001b[38;5;66;03m# pylint: disable=not-callable\u001b[39;00m\n\u001b[1;32m    943\u001b[0m \u001b[38;5;28;01melif\u001b[39;00m \u001b[38;5;28mself\u001b[39m\u001b[38;5;241m.\u001b[39m_stateful_fn \u001b[38;5;129;01mis\u001b[39;00m \u001b[38;5;129;01mnot\u001b[39;00m \u001b[38;5;28;01mNone\u001b[39;00m:\n\u001b[1;32m    944\u001b[0m   \u001b[38;5;66;03m# Release the lock early so that multiple threads can perform the call\u001b[39;00m\n\u001b[1;32m    945\u001b[0m   \u001b[38;5;66;03m# in parallel.\u001b[39;00m\n\u001b[1;32m    946\u001b[0m   \u001b[38;5;28mself\u001b[39m\u001b[38;5;241m.\u001b[39m_lock\u001b[38;5;241m.\u001b[39mrelease()\n",
      "File \u001b[0;32m~/.local/lib/python3.9/site-packages/tensorflow/python/eager/function.py:3130\u001b[0m, in \u001b[0;36mFunction.__call__\u001b[0;34m(self, *args, **kwargs)\u001b[0m\n\u001b[1;32m   3127\u001b[0m \u001b[38;5;28;01mwith\u001b[39;00m \u001b[38;5;28mself\u001b[39m\u001b[38;5;241m.\u001b[39m_lock:\n\u001b[1;32m   3128\u001b[0m   (graph_function,\n\u001b[1;32m   3129\u001b[0m    filtered_flat_args) \u001b[38;5;241m=\u001b[39m \u001b[38;5;28mself\u001b[39m\u001b[38;5;241m.\u001b[39m_maybe_define_function(args, kwargs)\n\u001b[0;32m-> 3130\u001b[0m \u001b[38;5;28;01mreturn\u001b[39;00m \u001b[43mgraph_function\u001b[49m\u001b[38;5;241;43m.\u001b[39;49m\u001b[43m_call_flat\u001b[49m\u001b[43m(\u001b[49m\n\u001b[1;32m   3131\u001b[0m \u001b[43m    \u001b[49m\u001b[43mfiltered_flat_args\u001b[49m\u001b[43m,\u001b[49m\u001b[43m \u001b[49m\u001b[43mcaptured_inputs\u001b[49m\u001b[38;5;241;43m=\u001b[39;49m\u001b[43mgraph_function\u001b[49m\u001b[38;5;241;43m.\u001b[39;49m\u001b[43mcaptured_inputs\u001b[49m\u001b[43m)\u001b[49m\n",
      "File \u001b[0;32m~/.local/lib/python3.9/site-packages/tensorflow/python/eager/function.py:1959\u001b[0m, in \u001b[0;36mConcreteFunction._call_flat\u001b[0;34m(self, args, captured_inputs, cancellation_manager)\u001b[0m\n\u001b[1;32m   1955\u001b[0m possible_gradient_type \u001b[38;5;241m=\u001b[39m gradients_util\u001b[38;5;241m.\u001b[39mPossibleTapeGradientTypes(args)\n\u001b[1;32m   1956\u001b[0m \u001b[38;5;28;01mif\u001b[39;00m (possible_gradient_type \u001b[38;5;241m==\u001b[39m gradients_util\u001b[38;5;241m.\u001b[39mPOSSIBLE_GRADIENT_TYPES_NONE\n\u001b[1;32m   1957\u001b[0m     \u001b[38;5;129;01mand\u001b[39;00m executing_eagerly):\n\u001b[1;32m   1958\u001b[0m   \u001b[38;5;66;03m# No tape is watching; skip to running the function.\u001b[39;00m\n\u001b[0;32m-> 1959\u001b[0m   \u001b[38;5;28;01mreturn\u001b[39;00m \u001b[38;5;28mself\u001b[39m\u001b[38;5;241m.\u001b[39m_build_call_outputs(\u001b[38;5;28;43mself\u001b[39;49m\u001b[38;5;241;43m.\u001b[39;49m\u001b[43m_inference_function\u001b[49m\u001b[38;5;241;43m.\u001b[39;49m\u001b[43mcall\u001b[49m\u001b[43m(\u001b[49m\n\u001b[1;32m   1960\u001b[0m \u001b[43m      \u001b[49m\u001b[43mctx\u001b[49m\u001b[43m,\u001b[49m\u001b[43m \u001b[49m\u001b[43margs\u001b[49m\u001b[43m,\u001b[49m\u001b[43m \u001b[49m\u001b[43mcancellation_manager\u001b[49m\u001b[38;5;241;43m=\u001b[39;49m\u001b[43mcancellation_manager\u001b[49m\u001b[43m)\u001b[49m)\n\u001b[1;32m   1961\u001b[0m forward_backward \u001b[38;5;241m=\u001b[39m \u001b[38;5;28mself\u001b[39m\u001b[38;5;241m.\u001b[39m_select_forward_and_backward_functions(\n\u001b[1;32m   1962\u001b[0m     args,\n\u001b[1;32m   1963\u001b[0m     possible_gradient_type,\n\u001b[1;32m   1964\u001b[0m     executing_eagerly)\n\u001b[1;32m   1965\u001b[0m forward_function, args_with_tangents \u001b[38;5;241m=\u001b[39m forward_backward\u001b[38;5;241m.\u001b[39mforward()\n",
      "File \u001b[0;32m~/.local/lib/python3.9/site-packages/tensorflow/python/eager/function.py:598\u001b[0m, in \u001b[0;36m_EagerDefinedFunction.call\u001b[0;34m(self, ctx, args, cancellation_manager)\u001b[0m\n\u001b[1;32m    596\u001b[0m \u001b[38;5;28;01mwith\u001b[39;00m _InterpolateFunctionError(\u001b[38;5;28mself\u001b[39m):\n\u001b[1;32m    597\u001b[0m   \u001b[38;5;28;01mif\u001b[39;00m cancellation_manager \u001b[38;5;129;01mis\u001b[39;00m \u001b[38;5;28;01mNone\u001b[39;00m:\n\u001b[0;32m--> 598\u001b[0m     outputs \u001b[38;5;241m=\u001b[39m \u001b[43mexecute\u001b[49m\u001b[38;5;241;43m.\u001b[39;49m\u001b[43mexecute\u001b[49m\u001b[43m(\u001b[49m\n\u001b[1;32m    599\u001b[0m \u001b[43m        \u001b[49m\u001b[38;5;28;43mstr\u001b[39;49m\u001b[43m(\u001b[49m\u001b[38;5;28;43mself\u001b[39;49m\u001b[38;5;241;43m.\u001b[39;49m\u001b[43msignature\u001b[49m\u001b[38;5;241;43m.\u001b[39;49m\u001b[43mname\u001b[49m\u001b[43m)\u001b[49m\u001b[43m,\u001b[49m\n\u001b[1;32m    600\u001b[0m \u001b[43m        \u001b[49m\u001b[43mnum_outputs\u001b[49m\u001b[38;5;241;43m=\u001b[39;49m\u001b[38;5;28;43mself\u001b[39;49m\u001b[38;5;241;43m.\u001b[39;49m\u001b[43m_num_outputs\u001b[49m\u001b[43m,\u001b[49m\n\u001b[1;32m    601\u001b[0m \u001b[43m        \u001b[49m\u001b[43minputs\u001b[49m\u001b[38;5;241;43m=\u001b[39;49m\u001b[43margs\u001b[49m\u001b[43m,\u001b[49m\n\u001b[1;32m    602\u001b[0m \u001b[43m        \u001b[49m\u001b[43mattrs\u001b[49m\u001b[38;5;241;43m=\u001b[39;49m\u001b[43mattrs\u001b[49m\u001b[43m,\u001b[49m\n\u001b[1;32m    603\u001b[0m \u001b[43m        \u001b[49m\u001b[43mctx\u001b[49m\u001b[38;5;241;43m=\u001b[39;49m\u001b[43mctx\u001b[49m\u001b[43m)\u001b[49m\n\u001b[1;32m    604\u001b[0m   \u001b[38;5;28;01melse\u001b[39;00m:\n\u001b[1;32m    605\u001b[0m     outputs \u001b[38;5;241m=\u001b[39m execute\u001b[38;5;241m.\u001b[39mexecute_with_cancellation(\n\u001b[1;32m    606\u001b[0m         \u001b[38;5;28mstr\u001b[39m(\u001b[38;5;28mself\u001b[39m\u001b[38;5;241m.\u001b[39msignature\u001b[38;5;241m.\u001b[39mname),\n\u001b[1;32m    607\u001b[0m         num_outputs\u001b[38;5;241m=\u001b[39m\u001b[38;5;28mself\u001b[39m\u001b[38;5;241m.\u001b[39m_num_outputs,\n\u001b[0;32m   (...)\u001b[0m\n\u001b[1;32m    610\u001b[0m         ctx\u001b[38;5;241m=\u001b[39mctx,\n\u001b[1;32m    611\u001b[0m         cancellation_manager\u001b[38;5;241m=\u001b[39mcancellation_manager)\n",
      "File \u001b[0;32m~/.local/lib/python3.9/site-packages/tensorflow/python/eager/execute.py:58\u001b[0m, in \u001b[0;36mquick_execute\u001b[0;34m(op_name, num_outputs, inputs, attrs, ctx, name)\u001b[0m\n\u001b[1;32m     56\u001b[0m \u001b[38;5;28;01mtry\u001b[39;00m:\n\u001b[1;32m     57\u001b[0m   ctx\u001b[38;5;241m.\u001b[39mensure_initialized()\n\u001b[0;32m---> 58\u001b[0m   tensors \u001b[38;5;241m=\u001b[39m \u001b[43mpywrap_tfe\u001b[49m\u001b[38;5;241;43m.\u001b[39;49m\u001b[43mTFE_Py_Execute\u001b[49m\u001b[43m(\u001b[49m\u001b[43mctx\u001b[49m\u001b[38;5;241;43m.\u001b[39;49m\u001b[43m_handle\u001b[49m\u001b[43m,\u001b[49m\u001b[43m \u001b[49m\u001b[43mdevice_name\u001b[49m\u001b[43m,\u001b[49m\u001b[43m \u001b[49m\u001b[43mop_name\u001b[49m\u001b[43m,\u001b[49m\n\u001b[1;32m     59\u001b[0m \u001b[43m                                      \u001b[49m\u001b[43minputs\u001b[49m\u001b[43m,\u001b[49m\u001b[43m \u001b[49m\u001b[43mattrs\u001b[49m\u001b[43m,\u001b[49m\u001b[43m \u001b[49m\u001b[43mnum_outputs\u001b[49m\u001b[43m)\u001b[49m\n\u001b[1;32m     60\u001b[0m \u001b[38;5;28;01mexcept\u001b[39;00m core\u001b[38;5;241m.\u001b[39m_NotOkStatusException \u001b[38;5;28;01mas\u001b[39;00m e:\n\u001b[1;32m     61\u001b[0m   \u001b[38;5;28;01mif\u001b[39;00m name \u001b[38;5;129;01mis\u001b[39;00m \u001b[38;5;129;01mnot\u001b[39;00m \u001b[38;5;28;01mNone\u001b[39;00m:\n",
      "\u001b[0;31mKeyboardInterrupt\u001b[0m: "
     ]
    }
   ],
   "source": [
    "model.fit(all_Xs, all_Ys/100, epochs=100, batch_size=32, verbose=1)"
   ]
  },
  {
   "cell_type": "code",
   "execution_count": 56,
   "id": "d32ff427",
   "metadata": {},
   "outputs": [
    {
     "data": {
      "text/plain": [
       "4.8487315790797485"
      ]
     },
     "execution_count": 56,
     "metadata": {},
     "output_type": "execute_result"
    }
   ],
   "source": [
    "predicted_voltage = model.predict(all_Xs) * 100\n",
    "np.sqrt(np.mean((predicted_voltage-all_Ys)**2))"
   ]
  },
  {
   "cell_type": "markdown",
   "id": "6d3d6521",
   "metadata": {},
   "source": [
    "Even better!"
   ]
  },
  {
   "cell_type": "code",
   "execution_count": 57,
   "id": "018d1501",
   "metadata": {},
   "outputs": [
    {
     "data": {
      "text/plain": [
       "<matplotlib.collections.PathCollection at 0x7c6276f0aac0>"
      ]
     },
     "execution_count": 57,
     "metadata": {},
     "output_type": "execute_result"
    },
    {
     "data": {
      "image/png": "[encoded data removed]",
      "text/plain": [
       "<Figure size 720x720 with 1 Axes>"
      ]
     },
     "metadata": {
      "needs_background": "light"
     },
     "output_type": "display_data"
    }
   ],
   "source": [
    "plt.figure(figsize=(10,10))\n",
    "plt.scatter(all_Xs[:,N-1,1], all_Ys)\n",
    "plt.scatter(all_Xs[:,N-1,1], predicted_voltage)"
   ]
  },
  {
   "cell_type": "markdown",
   "id": "d55e25e0",
   "metadata": {},
   "source": [
    "### Overkill LSTM"
   ]
  },
  {
   "cell_type": "markdown",
   "id": "4bb6406a",
   "metadata": {},
   "source": [
    "Our RNN clearly fits our data pretty well. Let's make it much bigger and see how it does."
   ]
  },
  {
   "cell_type": "code",
   "execution_count": 58,
   "id": "996bfca2",
   "metadata": {},
   "outputs": [
    {
     "name": "stdout",
     "output_type": "stream",
     "text": [
      "Model: \"sequential_4\"\n",
      "_________________________________________________________________\n",
      " Layer (type)                Output Shape              Param #   \n",
      "=================================================================\n",
      " rnnlayer (LSTM)             (None, 64)                17152     \n",
      "                                                                 \n",
      " layer1 (Dense)              (None, 64)                4160      \n",
      "                                                                 \n",
      " layer2 (Dense)              (None, 128)               8320      \n",
      "                                                                 \n",
      " layer3 (Dense)              (None, 64)                8256      \n",
      "                                                                 \n",
      " out (Dense)                 (None, 1)                 65        \n",
      "                                                                 \n",
      "=================================================================\n",
      "Total params: 37,953\n",
      "Trainable params: 37,953\n",
      "Non-trainable params: 0\n",
      "_________________________________________________________________\n"
     ]
    }
   ],
   "source": [
    "model = keras.Sequential(\n",
    "    [\n",
    "        keras.Input(shape=(N,2)),\n",
    "        layers.LSTM(64, name=\"rnnlayer\"),\n",
    "        layers.Dense(64, activation=\"relu\", name=\"layer1\"),\n",
    "        layers.Dense(128, activation=\"relu\", name=\"layer2\"),\n",
    "        layers.Dense(64, activation=\"relu\", name=\"layer3\"),\n",
    "        layers.Dense(1, name='out', activation='sigmoid')\n",
    "    ]\n",
    ")\n",
    "model.summary()\n",
    "opt = keras.optimizers.Adam(learning_rate=0.01)\n",
    "model.compile(loss='mean_squared_error', optimizer=opt)"
   ]
  },
  {
   "cell_type": "code",
   "execution_count": 59,
   "id": "beba42d0",
   "metadata": {},
   "outputs": [
    {
     "name": "stdout",
     "output_type": "stream",
     "text": [
      "Epoch 1/100\n",
      "110/110 [==============================] - 3s 7ms/step - loss: 0.0137\n",
      "Epoch 2/100\n",
      "110/110 [==============================] - 1s 7ms/step - loss: 0.0052\n",
      "Epoch 3/100\n",
      "110/110 [==============================] - 1s 7ms/step - loss: 0.0039\n",
      "Epoch 4/100\n",
      "110/110 [==============================] - 1s 7ms/step - loss: 0.0046\n",
      "Epoch 5/100\n",
      "110/110 [==============================] - 1s 7ms/step - loss: 0.0042\n",
      "Epoch 6/100\n",
      "110/110 [==============================] - 1s 7ms/step - loss: 0.0031\n",
      "Epoch 7/100\n",
      "110/110 [==============================] - 1s 8ms/step - loss: 0.0030\n",
      "Epoch 8/100\n",
      "110/110 [==============================] - 1s 7ms/step - loss: 0.0032\n",
      "Epoch 9/100\n",
      "110/110 [==============================] - 1s 8ms/step - loss: 0.0031\n",
      "Epoch 10/100\n",
      "110/110 [==============================] - 1s 7ms/step - loss: 0.0031\n",
      "Epoch 11/100\n",
      "110/110 [==============================] - 1s 8ms/step - loss: 0.0030\n",
      "Epoch 12/100\n",
      "110/110 [==============================] - 1s 7ms/step - loss: 0.0032\n",
      "Epoch 13/100\n",
      "110/110 [==============================] - 1s 8ms/step - loss: 0.0028\n",
      "Epoch 14/100\n",
      "110/110 [==============================] - 1s 8ms/step - loss: 0.0030\n",
      "Epoch 15/100\n",
      "110/110 [==============================] - 1s 7ms/step - loss: 0.0029\n",
      "Epoch 16/100\n",
      "110/110 [==============================] - 1s 7ms/step - loss: 0.0032\n",
      "Epoch 17/100\n",
      "110/110 [==============================] - 1s 7ms/step - loss: 0.0027\n",
      "Epoch 18/100\n",
      "110/110 [==============================] - 1s 8ms/step - loss: 0.0030\n",
      "Epoch 19/100\n",
      "110/110 [==============================] - 1s 7ms/step - loss: 0.0027\n",
      "Epoch 20/100\n",
      "110/110 [==============================] - 1s 7ms/step - loss: 0.0029\n",
      "Epoch 21/100\n",
      "110/110 [==============================] - 1s 8ms/step - loss: 0.0027\n",
      "Epoch 22/100\n",
      "110/110 [==============================] - 1s 8ms/step - loss: 0.0026\n",
      "Epoch 23/100\n",
      "110/110 [==============================] - 1s 8ms/step - loss: 0.0029\n",
      "Epoch 24/100\n",
      "110/110 [==============================] - 1s 7ms/step - loss: 0.0027\n",
      "Epoch 25/100\n",
      "110/110 [==============================] - 1s 7ms/step - loss: 0.0026\n",
      "Epoch 26/100\n",
      "110/110 [==============================] - 1s 7ms/step - loss: 0.0027\n",
      "Epoch 27/100\n",
      "110/110 [==============================] - 1s 7ms/step - loss: 0.0029\n",
      "Epoch 28/100\n",
      "110/110 [==============================] - 1s 7ms/step - loss: 0.0026\n",
      "Epoch 29/100\n",
      "110/110 [==============================] - 1s 7ms/step - loss: 0.0025\n",
      "Epoch 30/100\n",
      "110/110 [==============================] - 1s 7ms/step - loss: 0.0025\n",
      "Epoch 31/100\n",
      "110/110 [==============================] - 1s 7ms/step - loss: 0.0027\n",
      "Epoch 32/100\n",
      "110/110 [==============================] - 1s 7ms/step - loss: 0.0028\n",
      "Epoch 33/100\n",
      "110/110 [==============================] - 1s 7ms/step - loss: 0.0026\n",
      "Epoch 34/100\n",
      "110/110 [==============================] - 1s 7ms/step - loss: 0.0028\n",
      "Epoch 35/100\n",
      "110/110 [==============================] - 1s 7ms/step - loss: 0.0027\n",
      "Epoch 36/100\n",
      "110/110 [==============================] - 1s 7ms/step - loss: 0.0026\n",
      "Epoch 37/100\n",
      "110/110 [==============================] - 1s 7ms/step - loss: 0.0025\n",
      "Epoch 38/100\n",
      "110/110 [==============================] - 1s 7ms/step - loss: 0.0028\n",
      "Epoch 39/100\n",
      "110/110 [==============================] - 1s 7ms/step - loss: 0.0026\n",
      "Epoch 40/100\n",
      "110/110 [==============================] - 1s 7ms/step - loss: 0.0025\n",
      "Epoch 41/100\n",
      "110/110 [==============================] - 1s 7ms/step - loss: 0.0027\n",
      "Epoch 42/100\n",
      "110/110 [==============================] - 1s 7ms/step - loss: 0.0025\n",
      "Epoch 43/100\n",
      "110/110 [==============================] - 1s 7ms/step - loss: 0.0027\n",
      "Epoch 44/100\n",
      "110/110 [==============================] - 1s 7ms/step - loss: 0.0027\n",
      "Epoch 45/100\n",
      "110/110 [==============================] - 1s 7ms/step - loss: 0.0028\n",
      "Epoch 46/100\n",
      "110/110 [==============================] - 1s 7ms/step - loss: 0.0026\n",
      "Epoch 47/100\n",
      "110/110 [==============================] - 1s 8ms/step - loss: 0.0026\n",
      "Epoch 48/100\n",
      "110/110 [==============================] - 1s 7ms/step - loss: 0.0025\n",
      "Epoch 49/100\n",
      "110/110 [==============================] - 1s 7ms/step - loss: 0.0027\n",
      "Epoch 50/100\n",
      "110/110 [==============================] - 1s 7ms/step - loss: 0.0026\n",
      "Epoch 51/100\n",
      "110/110 [==============================] - 1s 7ms/step - loss: 0.0024\n",
      "Epoch 52/100\n",
      "110/110 [==============================] - 1s 8ms/step - loss: 0.0025\n",
      "Epoch 53/100\n",
      "110/110 [==============================] - 1s 8ms/step - loss: 0.0026\n",
      "Epoch 54/100\n",
      "110/110 [==============================] - 1s 8ms/step - loss: 0.0025\n",
      "Epoch 55/100\n",
      "110/110 [==============================] - 1s 8ms/step - loss: 0.0029\n",
      "Epoch 56/100\n",
      "110/110 [==============================] - 1s 8ms/step - loss: 0.0031\n",
      "Epoch 57/100\n",
      "110/110 [==============================] - 1s 8ms/step - loss: 0.0026\n",
      "Epoch 58/100\n",
      "110/110 [==============================] - 1s 8ms/step - loss: 0.0025\n",
      "Epoch 59/100\n",
      "110/110 [==============================] - 1s 8ms/step - loss: 0.0025\n",
      "Epoch 60/100\n",
      "110/110 [==============================] - 1s 8ms/step - loss: 0.0024\n",
      "Epoch 61/100\n",
      "110/110 [==============================] - 1s 8ms/step - loss: 0.0023\n",
      "Epoch 62/100\n",
      "110/110 [==============================] - 1s 8ms/step - loss: 0.0025\n",
      "Epoch 63/100\n",
      "110/110 [==============================] - 1s 7ms/step - loss: 0.0025\n",
      "Epoch 64/100\n",
      "110/110 [==============================] - 1s 8ms/step - loss: 0.0023\n",
      "Epoch 65/100\n",
      "110/110 [==============================] - 1s 8ms/step - loss: 0.0023\n",
      "Epoch 66/100\n",
      "110/110 [==============================] - 1s 8ms/step - loss: 0.0024\n",
      "Epoch 67/100\n",
      "110/110 [==============================] - 1s 7ms/step - loss: 0.0024\n",
      "Epoch 68/100\n",
      "110/110 [==============================] - 1s 8ms/step - loss: 0.0022\n",
      "Epoch 69/100\n",
      "110/110 [==============================] - 1s 8ms/step - loss: 0.0023\n",
      "Epoch 70/100\n",
      "110/110 [==============================] - 1s 8ms/step - loss: 0.0024\n",
      "Epoch 71/100\n",
      "110/110 [==============================] - 1s 8ms/step - loss: 0.0023\n",
      "Epoch 72/100\n",
      "110/110 [==============================] - 1s 8ms/step - loss: 0.0024\n",
      "Epoch 73/100\n",
      "110/110 [==============================] - 1s 8ms/step - loss: 0.0025\n",
      "Epoch 74/100\n",
      "110/110 [==============================] - 1s 8ms/step - loss: 0.0023\n",
      "Epoch 75/100\n",
      "110/110 [==============================] - 1s 9ms/step - loss: 0.0026\n",
      "Epoch 76/100\n",
      "110/110 [==============================] - 1s 9ms/step - loss: 0.0024\n",
      "Epoch 77/100\n",
      "110/110 [==============================] - 1s 8ms/step - loss: 0.0024\n",
      "Epoch 78/100\n",
      "110/110 [==============================] - 1s 8ms/step - loss: 0.0023\n",
      "Epoch 79/100\n",
      "110/110 [==============================] - 1s 8ms/step - loss: 0.0021\n",
      "Epoch 80/100\n",
      "110/110 [==============================] - 1s 8ms/step - loss: 0.0023\n",
      "Epoch 81/100\n",
      "110/110 [==============================] - 1s 8ms/step - loss: 0.0030\n",
      "Epoch 82/100\n",
      "110/110 [==============================] - 1s 8ms/step - loss: 0.0022\n",
      "Epoch 83/100\n",
      "110/110 [==============================] - 1s 8ms/step - loss: 0.0024\n",
      "Epoch 84/100\n",
      "110/110 [==============================] - 1s 8ms/step - loss: 0.0022\n",
      "Epoch 85/100\n",
      "110/110 [==============================] - 1s 8ms/step - loss: 0.0021\n",
      "Epoch 86/100\n",
      "110/110 [==============================] - 1s 9ms/step - loss: 0.0021\n",
      "Epoch 87/100\n",
      "110/110 [==============================] - 1s 8ms/step - loss: 0.0021\n",
      "Epoch 88/100\n",
      "110/110 [==============================] - 1s 8ms/step - loss: 0.0021\n",
      "Epoch 89/100\n",
      "110/110 [==============================] - 1s 8ms/step - loss: 0.0022\n",
      "Epoch 90/100\n",
      "110/110 [==============================] - 1s 8ms/step - loss: 0.0023\n",
      "Epoch 91/100\n",
      "110/110 [==============================] - 1s 8ms/step - loss: 0.0022\n",
      "Epoch 92/100\n",
      "110/110 [==============================] - 1s 8ms/step - loss: 0.0022\n",
      "Epoch 93/100\n",
      "110/110 [==============================] - 1s 8ms/step - loss: 0.0020\n",
      "Epoch 94/100\n",
      "110/110 [==============================] - 1s 8ms/step - loss: 0.0023\n",
      "Epoch 95/100\n",
      "110/110 [==============================] - 1s 8ms/step - loss: 0.0021\n",
      "Epoch 96/100\n",
      "110/110 [==============================] - 1s 8ms/step - loss: 0.0023\n",
      "Epoch 97/100\n",
      "110/110 [==============================] - 1s 8ms/step - loss: 0.0021\n",
      "Epoch 98/100\n",
      "110/110 [==============================] - 1s 8ms/step - loss: 0.0024\n",
      "Epoch 99/100\n"
     ]
    },
    {
     "name": "stdout",
     "output_type": "stream",
     "text": [
      "110/110 [==============================] - 1s 8ms/step - loss: 0.0022\n",
      "Epoch 100/100\n",
      "110/110 [==============================] - 1s 8ms/step - loss: 0.0021\n"
     ]
    },
    {
     "data": {
      "text/plain": [
       "<keras.callbacks.History at 0x7c6276613fa0>"
      ]
     },
     "execution_count": 59,
     "metadata": {},
     "output_type": "execute_result"
    }
   ],
   "source": [
    "model.fit(all_Xs, all_Ys/100, epochs=100, batch_size=32, verbose=1)"
   ]
  },
  {
   "cell_type": "code",
   "execution_count": 60,
   "id": "8d59c161",
   "metadata": {},
   "outputs": [
    {
     "data": {
      "text/plain": [
       "4.725197230884337"
      ]
     },
     "execution_count": 60,
     "metadata": {},
     "output_type": "execute_result"
    }
   ],
   "source": [
    "predicted_voltage = model.predict(all_Xs) * 100\n",
    "np.sqrt(np.mean((predicted_voltage-all_Ys)**2))"
   ]
  },
  {
   "cell_type": "code",
   "execution_count": 61,
   "id": "e8a47a30",
   "metadata": {},
   "outputs": [
    {
     "data": {
      "text/plain": [
       "<matplotlib.collections.PathCollection at 0x7c6277e7a970>"
      ]
     },
     "execution_count": 61,
     "metadata": {},
     "output_type": "execute_result"
    },
    {
     "data": {
      "image/png": "[encoded data removed]",
      "text/plain": [
       "<Figure size 720x720 with 1 Axes>"
      ]
     },
     "metadata": {
      "needs_background": "light"
     },
     "output_type": "display_data"
    }
   ],
   "source": [
    "plt.figure(figsize=(10,10))\n",
    "plt.scatter(all_Xs[:,N-1,1], all_Ys)\n",
    "plt.scatter(all_Xs[:,N-1,1], predicted_voltage)"
   ]
  },
  {
   "cell_type": "markdown",
   "id": "4a15e067",
   "metadata": {},
   "source": [
    "Really not any better. Not worth the extra computation. Especially since we are doing the computation on the fly."
   ]
  },
  {
   "cell_type": "markdown",
   "id": "799f5121",
   "metadata": {},
   "source": [
    "# A different approach"
   ]
  },
  {
   "cell_type": "markdown",
   "id": "061e6d63",
   "metadata": {},
   "source": [
    "These approaches have a fatal flaw in the real world. What is the input for `speed` during inference?"
   ]
  },
  {
   "cell_type": "markdown",
   "id": "6a5b1d13",
   "metadata": {},
   "source": [
    "In the real world, we have an \"actual speed\" and a \"desired speed\"\n",
    "\n",
    "- actual speed = speed measured by the speed sensor on the vehicle\n",
    "- desired speed = speed that is being asked for"
   ]
  },
  {
   "cell_type": "markdown",
   "id": "0fbe1158",
   "metadata": {},
   "source": [
    "For our supervised approach, we can assume that the \"desired speed\" for timestep $X$ is the \"actual speed\" at timestep $X + N$ where $N$ is how long it takes for a desire to become a reality for a human. "
   ]
  },
  {
   "cell_type": "markdown",
   "id": "09ea2792",
   "metadata": {},
   "source": [
    "Let's search for the best $N$ (how long for a desire to become actual)."
   ]
  },
  {
   "cell_type": "markdown",
   "id": "3c34148b",
   "metadata": {},
   "source": [
    "To do this, we will use the same methods as the previous RNN examples, but instead of creating data with \"look back\" we instead will have single points with actual/desired based on the defined $N$."
   ]
  },
  {
   "cell_type": "code",
   "execution_count": 64,
   "id": "1ba02599",
   "metadata": {},
   "outputs": [],
   "source": [
    "from sklearn.model_selection import train_test_split"
   ]
  },
  {
   "cell_type": "code",
   "execution_count": 67,
   "id": "020708e8",
   "metadata": {},
   "outputs": [],
   "source": [
    "data_df = pd.read_csv('./run2.csv')\n",
    "\n",
    "data_df = data_df[data_df[\"speed_avg\"] < 600]\n",
    "data_df = data_df[[\"ts\",\"duty_cycle\",\"acc\",\"speed_avg\"]]\n",
    "X = data_df.to_numpy()\n",
    "\n",
    "results = []\n",
    "\n",
    "def get_data_n(N):\n",
    "    timestamps = X[:,0] \n",
    "    ts_diffs = timestamps[1:] - timestamps[:-1]\n",
    "\n",
    "    X_relevant = X[:,2:]\n",
    "    Xs_scaler = MinMaxScaler()\n",
    "    Xs_scaler.fit(X_relevant)\n",
    "    X_relevant = Xs_scaler.transform(X_relevant)\n",
    "\n",
    "    sequences = []\n",
    "    current_sequence = []\n",
    "\n",
    "    for i, diff in enumerate(ts_diffs):\n",
    "        if diff < 101:\n",
    "            current_sequence.append(i)\n",
    "        else:\n",
    "            if len(current_sequence) > N * 2:\n",
    "                sequences.append(current_sequence)\n",
    "            current_sequence = [i]\n",
    "\n",
    "    print(f'num cont sequences is {len(sequences)}')\n",
    "\n",
    "    all_Xs = []\n",
    "    all_Ys = []\n",
    "    for sequence in sequences[:]:\n",
    "        Xs = []\n",
    "        Ys = []\n",
    "        for n in sequence[:-N]:\n",
    "            index_actual = n\n",
    "            index_desired = n + N\n",
    "            Ys.append(X[index_actual,1])\n",
    "            x_val = np.hstack((X_relevant[index_actual],X_relevant[index_desired, 1]))\n",
    "    #         print(x_val)\n",
    "            Xs.append(x_val)\n",
    "        all_Xs += Xs\n",
    "        all_Ys += Ys\n",
    "\n",
    "    all_Xs = np.array(all_Xs)\n",
    "    all_Ys = np.array(all_Ys).reshape(-1,1)\n",
    "    return all_Xs, all_Ys\n",
    "\n",
    "def test_n(N, verbose=0):\n",
    "    all_Xs,all_Ys = get_data_n(N)\n",
    "\n",
    "    train_Xs, test_Xs, train_Ys, test_Ys  = train_test_split(all_Xs, all_Ys, test_size=0.25, random_state=42)\n",
    "        \n",
    "    model = keras.Sequential(\n",
    "        [\n",
    "            keras.Input(shape=(3,)),\n",
    "            layers.Dense(6, activation=\"sigmoid\", name=\"layer1\"),\n",
    "            layers.Dense(6, activation=\"sigmoid\", name=\"layer2\"),\n",
    "            layers.Dense(6, activation=\"sigmoid\", name=\"layer3\"),\n",
    "            layers.Dense(1, name='out', activation='sigmoid')\n",
    "        ]\n",
    "    )\n",
    "    opt = keras.optimizers.Adam(learning_rate=0.01)\n",
    "    model.compile(loss='mean_squared_error', optimizer=opt)\n",
    "    \n",
    "    es = tf.keras.callbacks.EarlyStopping(monitor='val_loss', patience=20)\n",
    "    mc = tf.keras.callbacks.ModelCheckpoint(f'best_contextual_model_n_equals_{N}.h5', monitor='val_loss', mode='min')\n",
    "    model.fit(train_Xs, train_Ys/100, validation_data=(test_Xs,test_Ys/100), epochs=5000, batch_size=32, verbose=verbose, callbacks=[es,mc])\n",
    "    \n",
    "    train_predicted_voltage = model.predict(train_Xs) * 100\n",
    "    train_rmse = np.sqrt(np.mean((train_predicted_voltage-train_Ys)**2))\n",
    "    \n",
    "    test_predicted_voltage = model.predict(test_Xs) * 100\n",
    "    test_rmse = np.sqrt(np.mean((test_predicted_voltage-test_Ys)**2))\n",
    "    \n",
    "    results.append([N,train_rmse,test_rmse])\n",
    "    print(f\"{N} got {train_rmse} - {test_rmse}\")\n",
    "    model = keras.models.load_model(f'best_contextual_model_n_equals_{N}.h5')\n",
    "    return model\n"
   ]
  },
  {
   "cell_type": "code",
   "execution_count": 68,
   "id": "05d1cf0a",
   "metadata": {},
   "outputs": [
    {
     "name": "stdout",
     "output_type": "stream",
     "text": [
      "num cont sequences is 44\n",
      "1 got 4.90950489191428 - 5.473371420801499\n",
      "num cont sequences is 42\n",
      "2 got 4.700238446892648 - 4.206904297284069\n",
      "num cont sequences is 38\n",
      "3 got 4.055153805872403 - 4.152878376504419\n",
      "num cont sequences is 37\n",
      "4 got 3.7155401671962687 - 3.766490485917722\n",
      "num cont sequences is 37\n",
      "5 got 3.780767031352639 - 4.227853595089996\n",
      "num cont sequences is 35\n",
      "6 got 4.133255803061706 - 4.0446456256878305\n",
      "num cont sequences is 34\n",
      "7 got 4.4409153690522825 - 4.3048284455599015\n",
      "num cont sequences is 33\n",
      "8 got 4.502731863880897 - 4.5717086729564445\n",
      "num cont sequences is 33\n",
      "9 got 4.884604775698027 - 4.332990057105832\n",
      "num cont sequences is 32\n",
      "10 got 5.062423546070976 - 4.808931217845363\n"
     ]
    }
   ],
   "source": [
    "models = [test_n(n) for n in range(1,11)]"
   ]
  },
  {
   "cell_type": "code",
   "execution_count": 69,
   "id": "2b65d9c8",
   "metadata": {},
   "outputs": [
    {
     "data": {
      "text/html": [
       "<div>\n",
       "<style scoped>\n",
       "    .dataframe tbody tr th:only-of-type {\n",
       "        vertical-align: middle;\n",
       "    }\n",
       "\n",
       "    .dataframe tbody tr th {\n",
       "        vertical-align: top;\n",
       "    }\n",
       "\n",
       "    .dataframe thead th {\n",
       "        text-align: right;\n",
       "    }\n",
       "</style>\n",
       "<table border=\"1\" class=\"dataframe\">\n",
       "  <thead>\n",
       "    <tr style=\"text-align: right;\">\n",
       "      <th></th>\n",
       "      <th>N</th>\n",
       "      <th>train rmse</th>\n",
       "      <th>test rmse</th>\n",
       "    </tr>\n",
       "  </thead>\n",
       "  <tbody>\n",
       "    <tr>\n",
       "      <th>0</th>\n",
       "      <td>1.0</td>\n",
       "      <td>4.909505</td>\n",
       "      <td>5.473371</td>\n",
       "    </tr>\n",
       "    <tr>\n",
       "      <th>1</th>\n",
       "      <td>2.0</td>\n",
       "      <td>4.700238</td>\n",
       "      <td>4.206904</td>\n",
       "    </tr>\n",
       "    <tr>\n",
       "      <th>2</th>\n",
       "      <td>3.0</td>\n",
       "      <td>4.055154</td>\n",
       "      <td>4.152878</td>\n",
       "    </tr>\n",
       "    <tr>\n",
       "      <th>3</th>\n",
       "      <td>4.0</td>\n",
       "      <td>3.715540</td>\n",
       "      <td>3.766490</td>\n",
       "    </tr>\n",
       "    <tr>\n",
       "      <th>4</th>\n",
       "      <td>5.0</td>\n",
       "      <td>3.780767</td>\n",
       "      <td>4.227854</td>\n",
       "    </tr>\n",
       "    <tr>\n",
       "      <th>5</th>\n",
       "      <td>6.0</td>\n",
       "      <td>4.133256</td>\n",
       "      <td>4.044646</td>\n",
       "    </tr>\n",
       "    <tr>\n",
       "      <th>6</th>\n",
       "      <td>7.0</td>\n",
       "      <td>4.440915</td>\n",
       "      <td>4.304828</td>\n",
       "    </tr>\n",
       "    <tr>\n",
       "      <th>7</th>\n",
       "      <td>8.0</td>\n",
       "      <td>4.502732</td>\n",
       "      <td>4.571709</td>\n",
       "    </tr>\n",
       "    <tr>\n",
       "      <th>8</th>\n",
       "      <td>9.0</td>\n",
       "      <td>4.884605</td>\n",
       "      <td>4.332990</td>\n",
       "    </tr>\n",
       "    <tr>\n",
       "      <th>9</th>\n",
       "      <td>10.0</td>\n",
       "      <td>5.062424</td>\n",
       "      <td>4.808931</td>\n",
       "    </tr>\n",
       "  </tbody>\n",
       "</table>\n",
       "</div>"
      ],
      "text/plain": [
       "      N  train rmse  test rmse\n",
       "0   1.0    4.909505   5.473371\n",
       "1   2.0    4.700238   4.206904\n",
       "2   3.0    4.055154   4.152878\n",
       "3   4.0    3.715540   3.766490\n",
       "4   5.0    3.780767   4.227854\n",
       "5   6.0    4.133256   4.044646\n",
       "6   7.0    4.440915   4.304828\n",
       "7   8.0    4.502732   4.571709\n",
       "8   9.0    4.884605   4.332990\n",
       "9  10.0    5.062424   4.808931"
      ]
     },
     "execution_count": 69,
     "metadata": {},
     "output_type": "execute_result"
    }
   ],
   "source": [
    "results = np.array(results)\n",
    "pd.DataFrame(results, columns=['N', 'train rmse', 'test rmse'])"
   ]
  },
  {
   "cell_type": "code",
   "execution_count": 70,
   "id": "1f6c1194",
   "metadata": {},
   "outputs": [
    {
     "data": {
      "image/png": "[encoded data removed]",
      "text/plain": [
       "<Figure size 720x720 with 1 Axes>"
      ]
     },
     "metadata": {
      "needs_background": "light"
     },
     "output_type": "display_data"
    }
   ],
   "source": [
    "fig, ax = plt.subplots(figsize=(10,10))\n",
    "plt.plot(results[:,0],results[:,1], label=\"train\")\n",
    "plt.plot(results[:,0],results[:,2], label=\"test\")\n",
    "ax.set_xticks(np.arange(1,10))\n",
    "plt.legend(loc=\"upper right\")\n",
    "plt.xlabel('$N$')\n",
    "plt.ylabel(\"rmse\")\n",
    "plt.show()"
   ]
  },
  {
   "cell_type": "markdown",
   "id": "f63f6f1c",
   "metadata": {},
   "source": [
    "It looks like 3 or 4 are great options."
   ]
  },
  {
   "cell_type": "markdown",
   "id": "76e1455d",
   "metadata": {},
   "source": [
    "### Simple Neural Net"
   ]
  },
  {
   "cell_type": "code",
   "execution_count": 72,
   "id": "f43a62a1",
   "metadata": {},
   "outputs": [],
   "source": [
    "model = models[3]"
   ]
  },
  {
   "cell_type": "code",
   "execution_count": 73,
   "id": "0e85be30",
   "metadata": {},
   "outputs": [
    {
     "name": "stdout",
     "output_type": "stream",
     "text": [
      "num cont sequences is 37\n"
     ]
    },
    {
     "data": {
      "text/plain": [
       "3.728346365942846"
      ]
     },
     "execution_count": 73,
     "metadata": {},
     "output_type": "execute_result"
    }
   ],
   "source": [
    "all_Xs,all_Ys = get_data_n(4)\n",
    "predicted_voltage = model.predict(all_Xs) * 100\n",
    "np.sqrt(np.mean((predicted_voltage-all_Ys)**2))"
   ]
  },
  {
   "cell_type": "code",
   "execution_count": 81,
   "id": "cab59bd6",
   "metadata": {},
   "outputs": [
    {
     "data": {
      "text/plain": [
       "array([[0.36455262]], dtype=float32)"
      ]
     },
     "execution_count": 81,
     "metadata": {},
     "output_type": "execute_result"
    }
   ],
   "source": [
    "model.predict([[0.5,0.3,0.5]])"
   ]
  },
  {
   "cell_type": "code",
   "execution_count": 82,
   "id": "7eabb74b",
   "metadata": {
    "scrolled": false
   },
   "outputs": [
    {
     "data": {
      "text/plain": [
       "<matplotlib.collections.PathCollection at 0x7c6262f4a280>"
      ]
     },
     "execution_count": 82,
     "metadata": {},
     "output_type": "execute_result"
    },
    {
     "data": {
      "image/png": "[encoded data removed]",
      "text/plain": [
       "<Figure size 720x720 with 1 Axes>"
      ]
     },
     "metadata": {
      "needs_background": "light"
     },
     "output_type": "display_data"
    }
   ],
   "source": [
    "# %matplotlib notebook\n",
    "\n",
    "\n",
    "speed = all_Xs[:,1]\n",
    "speed2 = all_Xs[:,2]\n",
    "num_to_plot = 3000\n",
    "samples_to_plot = np.random.randint(0,len(speed) - num_to_plot)\n",
    "plt.figure(figsize=(10,10))\n",
    "# ax = plt.axes(projection='3d')\n",
    "# print(len(speed))\n",
    "plt.scatter(speed[samples_to_plot:samples_to_plot+num_to_plot], all_Ys[samples_to_plot:samples_to_plot+num_to_plot])\n",
    "plt.scatter(speed[samples_to_plot:samples_to_plot+num_to_plot], predicted_voltage[samples_to_plot:samples_to_plot+num_to_plot])\n",
    "\n",
    "# ax.scatter3D(speed[samples_to_plot:samples_to_plot+num_to_plot], speed2[samples_to_plot:samples_to_plot+num_to_plot], all_Ys[samples_to_plot:samples_to_plot+num_to_plot], cmap='Greens')\n",
    "# ax.scatter3D(speed[samples_to_plot:samples_to_plot+num_to_plot], speed2[samples_to_plot:samples_to_plot+num_to_plot], predicted_voltage[samples_to_plot:samples_to_plot+num_to_plot], cmap='Red')\n",
    "# ax.set_xlabel('actual speed', fontsize=20)\n",
    "# ax.set_ylabel('desired speed', fontsize=20)\n",
    "# ax.set_zlabel('voltage', fontsize=20);"
   ]
  },
  {
   "cell_type": "markdown",
   "id": "525fa792",
   "metadata": {},
   "source": [
    "Weird. But better."
   ]
  },
  {
   "cell_type": "code",
   "execution_count": 80,
   "id": "04af7634",
   "metadata": {},
   "outputs": [],
   "source": [
    "from keras.models import save_model\n",
    "\n",
    "#save_model(model, \"contextual_model.h5\")"
   ]
  },
  {
   "cell_type": "code",
   "execution_count": null,
   "id": "eb4ef6de",
   "metadata": {},
   "outputs": [],
   "source": []
  }
 ],
 "metadata": {
  "kernelspec": {
   "display_name": "Python 3 (ipykernel)",
   "language": "python",
   "name": "python3"
  },
  "language_info": {
   "codemirror_mode": {
    "name": "ipython",
    "version": 3
   },
   "file_extension": ".py",
   "mimetype": "text/x-python",
   "name": "python",
   "nbconvert_exporter": "python",
   "pygments_lexer": "ipython3",
   "version": "3.9.1"
  }
 },
 "nbformat": 4,
 "nbformat_minor": 5
}
